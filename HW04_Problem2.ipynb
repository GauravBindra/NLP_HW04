{
  "nbformat": 4,
  "nbformat_minor": 0,
  "metadata": {
    "colab": {
      "provenance": [],
      "machine_shape": "hm",
      "gpuType": "A100"
    },
    "kernelspec": {
      "name": "python3",
      "display_name": "Python 3"
    },
    "language_info": {
      "name": "python"
    },
    "accelerator": "GPU"
  },
  "cells": [
    {
      "cell_type": "code",
      "execution_count": 1,
      "metadata": {
        "id": "yUsuD_o-6NCd"
      },
      "outputs": [],
      "source": [
        "#useful imports\n",
        "\n",
        "import numpy as np\n",
        "from numpy.random import randint,rand,seed,normal,permutation\n",
        "import torch\n",
        "import torchvision\n",
        "import torch.nn.functional as F\n",
        "from torch.utils.data import random_split,Dataset,DataLoader\n",
        "from torchvision import datasets, transforms\n",
        "from torch import nn, optim\n",
        "\n",
        "from torchvision.datasets import MNIST\n",
        "import torchvision.transforms as T\n",
        "\n",
        "\n",
        "from keras.datasets import mnist\n",
        "import matplotlib.pyplot as plt\n",
        "from copy import deepcopy\n",
        "from tqdm import tqdm\n",
        "\n",
        "from scipy.special import softmax\n",
        "import spacy\n",
        "import pandas as pd\n"
      ]
    },
    {
      "cell_type": "code",
      "source": [
        "from google.colab import drive\n",
        "drive.mount('/content/drive')"
      ],
      "metadata": {
        "colab": {
          "base_uri": "https://localhost:8080/",
          "height": 0
        },
        "id": "Nzi1FSRK6WoX",
        "outputId": "e824aee7-f085-495a-e637-ebe6b50895a5"
      },
      "execution_count": 2,
      "outputs": [
        {
          "output_type": "stream",
          "name": "stdout",
          "text": [
            "Mounted at /content/drive\n"
          ]
        }
      ]
    },
    {
      "cell_type": "code",
      "source": [
        "# data_dir = 'https://drive.google.com/drive/folders/1stS7Uj-GAtJASlgUFxyz0JM58dnoTA8L?usp=drive_link'"
      ],
      "metadata": {
        "id": "JKvEAD1s8Bm7"
      },
      "execution_count": 3,
      "outputs": []
    },
    {
      "cell_type": "code",
      "source": [
        "\n",
        "# from gensim.scripts.glove2word2vec import glove2word2vec\n",
        "# glove_input_file = 'glove.txt'\n",
        "# word2vec_output_file = 'word2vec.txt'\n",
        "# glove2word2vec(glove_input_file, word2vec_output_file)"
      ],
      "metadata": {
        "id": "GRF7AOP2I_LT"
      },
      "execution_count": 4,
      "outputs": []
    },
    {
      "cell_type": "code",
      "source": [
        "# from gensim.scripts.glove2word2vec import glove2word2vec\n",
        "# glove_input_file = 'https://drive.google.com/file/d/18aLgOmWo7bFidz3cJES52m51CNGS0SoQ/view?usp=sharing'\n",
        "# word2vec_output_file = 'glove.6B.100d.txt.word2vec'\n",
        "# glove2word2vec(glove_input_file, word2vec_output_file)"
      ],
      "metadata": {
        "id": "8sVcY9qD7xqD"
      },
      "execution_count": 5,
      "outputs": []
    },
    {
      "cell_type": "code",
      "source": [
        "from gensim.scripts.glove2word2vec import glove2word2vec\n",
        "glove_input_file ='/content/drive/My Drive/test/glove.6B.100d.txt'\n",
        "word2vec_output_file = 'glove.6B.100d.txt.word2vec'\n",
        "glove2word2vec(glove_input_file, word2vec_output_file)"
      ],
      "metadata": {
        "colab": {
          "base_uri": "https://localhost:8080/",
          "height": 0
        },
        "id": "gMTi9cRMOz1g",
        "outputId": "dccd0433-82aa-4728-c262-4498db4c114d"
      },
      "execution_count": 6,
      "outputs": [
        {
          "output_type": "stream",
          "name": "stderr",
          "text": [
            "<ipython-input-6-9e4f2c338670>:4: DeprecationWarning: Call to deprecated `glove2word2vec` (KeyedVectors.load_word2vec_format(.., binary=False, no_header=True) loads GLoVE text vectors.).\n",
            "  glove2word2vec(glove_input_file, word2vec_output_file)\n"
          ]
        },
        {
          "output_type": "execute_result",
          "data": {
            "text/plain": [
              "(400000, 100)"
            ]
          },
          "metadata": {},
          "execution_count": 6
        }
      ]
    },
    {
      "cell_type": "code",
      "source": [
        "from gensim.models import KeyedVectors\n",
        "# load the Stanford GloVe model\n",
        "filename = 'glove.6B.100d.txt.word2vec'\n",
        "model = KeyedVectors.load_word2vec_format(filename, binary=False)\n",
        "# calculate: (king - man) + woman = ?\n",
        "result = model.most_similar(positive=['woman', 'king'], negative=['man'], topn=1)\n",
        "print(result)"
      ],
      "metadata": {
        "colab": {
          "base_uri": "https://localhost:8080/",
          "height": 0
        },
        "id": "hgQmtydwCcu2",
        "outputId": "849b71e1-11f1-4ebd-eace-874ffecd8a49"
      },
      "execution_count": 7,
      "outputs": [
        {
          "output_type": "stream",
          "name": "stdout",
          "text": [
            "[('queen', 0.7698540687561035)]\n"
          ]
        }
      ]
    },
    {
      "cell_type": "code",
      "source": [
        "emails_raw = pd.read_csv('/content/drive/My Drive/test/enron_spam_ham.csv').to_numpy()"
      ],
      "metadata": {
        "id": "wfUkyHe16tIX"
      },
      "execution_count": 8,
      "outputs": []
    },
    {
      "cell_type": "code",
      "source": [
        "# file_path = '/content/drive/My Drive/test/message.txt'\n",
        "\n",
        "# # Open and read the file\n",
        "# with open(file_path, 'r') as file:\n",
        "#     content = file.read()\n",
        "\n",
        "# # Print the file content\n",
        "# print(content)"
      ],
      "metadata": {
        "id": "FI6tnFAy7l3y"
      },
      "execution_count": 9,
      "outputs": []
    },
    {
      "cell_type": "code",
      "source": [
        "emails_raw[0]"
      ],
      "metadata": {
        "colab": {
          "base_uri": "https://localhost:8080/",
          "height": 0
        },
        "id": "iKra92D2_KbU",
        "outputId": "dba29d8e-e31d-42c4-ba79-7cd3ffa259ef"
      },
      "execution_count": 10,
      "outputs": [
        {
          "output_type": "execute_result",
          "data": {
            "text/plain": [
              "array([\"Subject: sevil yamin  anne ,  vasant sent this information to norma . i shall fwd his message to you .  vince  - - - - - - - - - - - - - - - - - - - - - - forwarded by vince j kaminski / hou / ect on 04 / 10 / 2001  03 : 02 pm - - - - - - - - - - - - - - - - - - - - - - - - - - -  stinson gibner  04 / 10 / 2001 02 : 57 pm  to : vince j kaminski / hou / ect @ ect  cc :  subject : sevil yamin  vince ,  do you want me to do this , or vasant ?  - - stinson  - - - - - - - - - - - - - - - - - - - - - - forwarded by stinson gibner / hou / ect on 04 / 10 / 2001  02 : 57 pm - - - - - - - - - - - - - - - - - - - - - - - - - - -  from : anne labbe / enron @ enronxgate on 04 / 06 / 2001 09 : 57 am  to : stinson gibner / hou / ect @ ect  cc :  subject : sevil yamin  stinson ,  i am the new hr generalist for the research group because norma villarreal is  moving to business analysis and reporting . earlier this week , norma and i  met with vince , and he said that he was going to talk to you about writing up  a list of sevil ' s projects / accomplishments for last year and this year , so  that we can give her a project bonus since she did not receive a bonus during  the normal prc time . at your earliest convenience , will you please email me  this list so that i can get started putting together all of the paperwork so  that she can receive a check on april 16 th .  if you have any questions , please feel free to contact me at 5 - 7809 . i look  forward to meeting you , and the rest of the group next week at vince ' s staff  meeting .  thanks ,  anne labbe '\",\n",
              "       0], dtype=object)"
            ]
          },
          "metadata": {},
          "execution_count": 10
        }
      ]
    },
    {
      "cell_type": "code",
      "source": [
        "sp = spacy.load('en_core_web_sm')"
      ],
      "metadata": {
        "id": "PB1rW-L1HJRO"
      },
      "execution_count": 11,
      "outputs": []
    },
    {
      "cell_type": "code",
      "source": [
        "text, label = emails_raw[0]\n",
        "print(text)\n",
        "document = sp(text.lower())\n",
        "print(document)\n",
        "print(type(document))"
      ],
      "metadata": {
        "colab": {
          "base_uri": "https://localhost:8080/",
          "height": 0
        },
        "id": "VHXFAngcHNB8",
        "outputId": "71194b85-41dc-43a1-eb66-f833d32f5a83"
      },
      "execution_count": 16,
      "outputs": [
        {
          "output_type": "stream",
          "name": "stdout",
          "text": [
            "Subject: sevil yamin  anne ,  vasant sent this information to norma . i shall fwd his message to you .  vince  - - - - - - - - - - - - - - - - - - - - - - forwarded by vince j kaminski / hou / ect on 04 / 10 / 2001  03 : 02 pm - - - - - - - - - - - - - - - - - - - - - - - - - - -  stinson gibner  04 / 10 / 2001 02 : 57 pm  to : vince j kaminski / hou / ect @ ect  cc :  subject : sevil yamin  vince ,  do you want me to do this , or vasant ?  - - stinson  - - - - - - - - - - - - - - - - - - - - - - forwarded by stinson gibner / hou / ect on 04 / 10 / 2001  02 : 57 pm - - - - - - - - - - - - - - - - - - - - - - - - - - -  from : anne labbe / enron @ enronxgate on 04 / 06 / 2001 09 : 57 am  to : stinson gibner / hou / ect @ ect  cc :  subject : sevil yamin  stinson ,  i am the new hr generalist for the research group because norma villarreal is  moving to business analysis and reporting . earlier this week , norma and i  met with vince , and he said that he was going to talk to you about writing up  a list of sevil ' s projects / accomplishments for last year and this year , so  that we can give her a project bonus since she did not receive a bonus during  the normal prc time . at your earliest convenience , will you please email me  this list so that i can get started putting together all of the paperwork so  that she can receive a check on april 16 th .  if you have any questions , please feel free to contact me at 5 - 7809 . i look  forward to meeting you , and the rest of the group next week at vince ' s staff  meeting .  thanks ,  anne labbe '\n",
            "subject: sevil yamin  anne ,  vasant sent this information to norma . i shall fwd his message to you .  vince  - - - - - - - - - - - - - - - - - - - - - - forwarded by vince j kaminski / hou / ect on 04 / 10 / 2001  03 : 02 pm - - - - - - - - - - - - - - - - - - - - - - - - - - -  stinson gibner  04 / 10 / 2001 02 : 57 pm  to : vince j kaminski / hou / ect @ ect  cc :  subject : sevil yamin  vince ,  do you want me to do this , or vasant ?  - - stinson  - - - - - - - - - - - - - - - - - - - - - - forwarded by stinson gibner / hou / ect on 04 / 10 / 2001  02 : 57 pm - - - - - - - - - - - - - - - - - - - - - - - - - - -  from : anne labbe / enron @ enronxgate on 04 / 06 / 2001 09 : 57 am  to : stinson gibner / hou / ect @ ect  cc :  subject : sevil yamin  stinson ,  i am the new hr generalist for the research group because norma villarreal is  moving to business analysis and reporting . earlier this week , norma and i  met with vince , and he said that he was going to talk to you about writing up  a list of sevil ' s projects / accomplishments for last year and this year , so  that we can give her a project bonus since she did not receive a bonus during  the normal prc time . at your earliest convenience , will you please email me  this list so that i can get started putting together all of the paperwork so  that she can receive a check on april 16 th .  if you have any questions , please feel free to contact me at 5 - 7809 . i look  forward to meeting you , and the rest of the group next week at vince ' s staff  meeting .  thanks ,  anne labbe '\n",
            "<class 'spacy.tokens.doc.Doc'>\n"
          ]
        }
      ]
    },
    {
      "cell_type": "code",
      "source": [
        "for word in document:\n",
        "    print(word)\n",
        "    print(type(word))\n",
        "    print(str(word))\n",
        "    print(type(str(word)))\n",
        "    break"
      ],
      "metadata": {
        "colab": {
          "base_uri": "https://localhost:8080/",
          "height": 0
        },
        "id": "DKEeoEhNHmKO",
        "outputId": "e4d31389-549b-4c67-a572-ca1a2252c83e"
      },
      "execution_count": 17,
      "outputs": [
        {
          "output_type": "stream",
          "name": "stdout",
          "text": [
            "subject\n",
            "<class 'spacy.tokens.token.Token'>\n",
            "subject\n",
            "<class 'str'>\n"
          ]
        }
      ]
    },
    {
      "cell_type": "code",
      "source": [
        "model[str(word)]"
      ],
      "metadata": {
        "colab": {
          "base_uri": "https://localhost:8080/",
          "height": 0
        },
        "id": "tRBTnAK4HoJe",
        "outputId": "e6ce0a09-3bf7-4f40-a832-d5905ab5ef86"
      },
      "execution_count": 18,
      "outputs": [
        {
          "output_type": "execute_result",
          "data": {
            "text/plain": [
              "array([-0.098252 ,  0.053359 ,  0.3814   ,  0.25006  ,  0.37622  ,\n",
              "        0.39795  , -0.42648  , -0.11512  , -0.062542 , -0.30872  ,\n",
              "       -0.1126   ,  0.017485 ,  0.42269  , -0.05028  , -0.036123 ,\n",
              "       -0.17231  ,  0.022046 ,  0.269    , -0.23359  ,  0.012059 ,\n",
              "       -0.17243  , -0.204    , -0.0737   , -0.11341  ,  0.11035  ,\n",
              "       -0.56162  ,  0.080746 , -0.36331  , -0.30045  , -0.12815  ,\n",
              "       -0.45184  ,  0.012891 , -0.1789   , -0.44184  ,  0.093577 ,\n",
              "        0.59694  ,  0.023494 , -0.4611   , -0.45794  ,  0.11821  ,\n",
              "       -0.5165   , -0.11584  ,  0.083922 ,  0.016293 , -0.25888  ,\n",
              "       -0.30356  ,  0.28238  , -0.031084 ,  0.045921 , -0.65211  ,\n",
              "        0.98727  ,  0.023694 ,  0.22667  ,  0.75697  , -0.20568  ,\n",
              "       -1.3769   ,  0.41452  , -0.54832  ,  1.5247   ,  0.16025  ,\n",
              "        0.35099  ,  0.99004  , -0.32081  , -0.51617  ,  1.7852   ,\n",
              "       -0.36472  ,  0.52039  , -0.0099243,  0.066323 ,  0.073432 ,\n",
              "       -0.40247  ,  0.04315  ,  0.49818  ,  0.50381  , -0.30446  ,\n",
              "       -0.10126  , -0.33538  , -0.44573  , -1.0383   , -0.37519  ,\n",
              "        0.32278  , -0.35961  ,  0.15101  , -0.10449  , -1.7589   ,\n",
              "        0.0035028, -0.3349   , -0.47833  ,  0.37978  , -0.68465  ,\n",
              "       -0.27228  , -0.041006 , -0.028524 ,  0.13495  ,  0.28592  ,\n",
              "        0.7695   , -0.046894 , -0.42496  ,  0.20771  , -0.003625 ],\n",
              "      dtype=float32)"
            ]
          },
          "metadata": {},
          "execution_count": 18
        }
      ]
    },
    {
      "cell_type": "code",
      "source": [
        "emails_raw.shape"
      ],
      "metadata": {
        "colab": {
          "base_uri": "https://localhost:8080/",
          "height": 0
        },
        "id": "MGN9gBqzH37W",
        "outputId": "f11a1269-c98f-49ad-e653-6f9dcdae101c"
      },
      "execution_count": 19,
      "outputs": [
        {
          "output_type": "execute_result",
          "data": {
            "text/plain": [
              "(28138, 2)"
            ]
          },
          "metadata": {},
          "execution_count": 19
        }
      ]
    },
    {
      "cell_type": "code",
      "source": [
        "for email in tqdm(emails_raw):\n",
        "    text, label = email\n",
        "    print(text)\n",
        "    break"
      ],
      "metadata": {
        "colab": {
          "base_uri": "https://localhost:8080/",
          "height": 0
        },
        "id": "_FLGO3-fH6cl",
        "outputId": "665e7509-7ec7-453d-d253-44e567fce414"
      },
      "execution_count": 20,
      "outputs": [
        {
          "output_type": "stream",
          "name": "stderr",
          "text": [
            "  0%|          | 0/28138 [00:00<?, ?it/s]"
          ]
        },
        {
          "output_type": "stream",
          "name": "stdout",
          "text": [
            "Subject: sevil yamin  anne ,  vasant sent this information to norma . i shall fwd his message to you .  vince  - - - - - - - - - - - - - - - - - - - - - - forwarded by vince j kaminski / hou / ect on 04 / 10 / 2001  03 : 02 pm - - - - - - - - - - - - - - - - - - - - - - - - - - -  stinson gibner  04 / 10 / 2001 02 : 57 pm  to : vince j kaminski / hou / ect @ ect  cc :  subject : sevil yamin  vince ,  do you want me to do this , or vasant ?  - - stinson  - - - - - - - - - - - - - - - - - - - - - - forwarded by stinson gibner / hou / ect on 04 / 10 / 2001  02 : 57 pm - - - - - - - - - - - - - - - - - - - - - - - - - - -  from : anne labbe / enron @ enronxgate on 04 / 06 / 2001 09 : 57 am  to : stinson gibner / hou / ect @ ect  cc :  subject : sevil yamin  stinson ,  i am the new hr generalist for the research group because norma villarreal is  moving to business analysis and reporting . earlier this week , norma and i  met with vince , and he said that he was going to talk to you about writing up  a list of sevil ' s projects / accomplishments for last year and this year , so  that we can give her a project bonus since she did not receive a bonus during  the normal prc time . at your earliest convenience , will you please email me  this list so that i can get started putting together all of the paperwork so  that she can receive a check on april 16 th .  if you have any questions , please feel free to contact me at 5 - 7809 . i look  forward to meeting you , and the rest of the group next week at vince ' s staff  meeting .  thanks ,  anne labbe '\n"
          ]
        },
        {
          "output_type": "stream",
          "name": "stderr",
          "text": [
            "\n"
          ]
        }
      ]
    },
    {
      "cell_type": "code",
      "source": [
        "# emails_embeddings = torch.ones(100).to(device)\n",
        "# emails_embeddings = np.zeros(100)\n",
        "emails_embeddings = [] #This will be a list of np arrays\n",
        "# print(emails_embeddings)\n",
        "count = 0\n",
        "for email in tqdm(emails_raw):\n",
        "    text, label = email\n",
        "    document = sp(text.lower())\n",
        "\n",
        "    words_in_doc = 0\n",
        "    # doc_embedding = torch.zeros(100).to(device)\n",
        "    doc_embedding = np.zeros(100)\n",
        "\n",
        "\n",
        "    for word in document:\n",
        "\n",
        "        if str(word)in model:\n",
        "            words_in_doc+=1\n",
        "            word_embedding = model[str(word)]\n",
        "            # torch_word_embedding = torch.from_numpy(word_embedding).to(device)\n",
        "            doc_embedding+=word_embedding\n",
        "\n",
        "\n",
        "\n",
        "    doc_embedding = doc_embedding/words_in_doc\n",
        "    # print(doc_embedding)\n",
        "    # print(doc_embedding.shape)\n",
        "    # emails_embeddings = torch.cat((emails_embeddings, doc_embedding),dim=0)\n",
        "    # print(emails_embeddings)\n",
        "    emails_embeddings.append(doc_embedding)\n",
        "    # print(emails_embeddings)\n",
        "    # print(len(emails_embeddings))\n",
        "    # count+=1\n",
        "    # if count==2:\n",
        "    #   break\n"
      ],
      "metadata": {
        "colab": {
          "base_uri": "https://localhost:8080/",
          "height": 393
        },
        "id": "E1ksEQCzIEq_",
        "outputId": "9af54171-88d6-4efc-ab4a-c9610754e8f0"
      },
      "execution_count": 21,
      "outputs": [
        {
          "output_type": "stream",
          "name": "stderr",
          "text": [
            " 15%|█▍        | 4096/28138 [03:30<20:37, 19.43it/s]\n"
          ]
        },
        {
          "output_type": "error",
          "ename": "KeyboardInterrupt",
          "evalue": "ignored",
          "traceback": [
            "\u001b[0;31m---------------------------------------------------------------------------\u001b[0m",
            "\u001b[0;31mKeyboardInterrupt\u001b[0m                         Traceback (most recent call last)",
            "\u001b[0;32m<ipython-input-21-28b0a0e0ad1b>\u001b[0m in \u001b[0;36m<cell line: 6>\u001b[0;34m()\u001b[0m\n\u001b[1;32m     17\u001b[0m         \u001b[0;32mif\u001b[0m \u001b[0mstr\u001b[0m\u001b[0;34m(\u001b[0m\u001b[0mword\u001b[0m\u001b[0;34m)\u001b[0m\u001b[0;32min\u001b[0m \u001b[0mmodel\u001b[0m\u001b[0;34m:\u001b[0m\u001b[0;34m\u001b[0m\u001b[0;34m\u001b[0m\u001b[0m\n\u001b[1;32m     18\u001b[0m             \u001b[0mwords_in_doc\u001b[0m\u001b[0;34m+=\u001b[0m\u001b[0;36m1\u001b[0m\u001b[0;34m\u001b[0m\u001b[0;34m\u001b[0m\u001b[0m\n\u001b[0;32m---> 19\u001b[0;31m             \u001b[0mword_embedding\u001b[0m \u001b[0;34m=\u001b[0m \u001b[0mmodel\u001b[0m\u001b[0;34m[\u001b[0m\u001b[0mstr\u001b[0m\u001b[0;34m(\u001b[0m\u001b[0mword\u001b[0m\u001b[0;34m)\u001b[0m\u001b[0;34m]\u001b[0m\u001b[0;34m\u001b[0m\u001b[0;34m\u001b[0m\u001b[0m\n\u001b[0m\u001b[1;32m     20\u001b[0m             \u001b[0;31m# torch_word_embedding = torch.from_numpy(word_embedding).to(device)\u001b[0m\u001b[0;34m\u001b[0m\u001b[0;34m\u001b[0m\u001b[0m\n\u001b[1;32m     21\u001b[0m             \u001b[0mdoc_embedding\u001b[0m\u001b[0;34m+=\u001b[0m\u001b[0mword_embedding\u001b[0m\u001b[0;34m\u001b[0m\u001b[0;34m\u001b[0m\u001b[0m\n",
            "\u001b[0;32m/usr/local/lib/python3.10/dist-packages/gensim/models/keyedvectors.py\u001b[0m in \u001b[0;36m__getitem__\u001b[0;34m(self, key_or_keys)\u001b[0m\n\u001b[1;32m    401\u001b[0m         \"\"\"\n\u001b[1;32m    402\u001b[0m         \u001b[0;32mif\u001b[0m \u001b[0misinstance\u001b[0m\u001b[0;34m(\u001b[0m\u001b[0mkey_or_keys\u001b[0m\u001b[0;34m,\u001b[0m \u001b[0m_KEY_TYPES\u001b[0m\u001b[0;34m)\u001b[0m\u001b[0;34m:\u001b[0m\u001b[0;34m\u001b[0m\u001b[0;34m\u001b[0m\u001b[0m\n\u001b[0;32m--> 403\u001b[0;31m             \u001b[0;32mreturn\u001b[0m \u001b[0mself\u001b[0m\u001b[0;34m.\u001b[0m\u001b[0mget_vector\u001b[0m\u001b[0;34m(\u001b[0m\u001b[0mkey_or_keys\u001b[0m\u001b[0;34m)\u001b[0m\u001b[0;34m\u001b[0m\u001b[0;34m\u001b[0m\u001b[0m\n\u001b[0m\u001b[1;32m    404\u001b[0m \u001b[0;34m\u001b[0m\u001b[0m\n\u001b[1;32m    405\u001b[0m         \u001b[0;32mreturn\u001b[0m \u001b[0mvstack\u001b[0m\u001b[0;34m(\u001b[0m\u001b[0;34m[\u001b[0m\u001b[0mself\u001b[0m\u001b[0;34m.\u001b[0m\u001b[0mget_vector\u001b[0m\u001b[0;34m(\u001b[0m\u001b[0mkey\u001b[0m\u001b[0;34m)\u001b[0m \u001b[0;32mfor\u001b[0m \u001b[0mkey\u001b[0m \u001b[0;32min\u001b[0m \u001b[0mkey_or_keys\u001b[0m\u001b[0;34m]\u001b[0m\u001b[0;34m)\u001b[0m\u001b[0;34m\u001b[0m\u001b[0;34m\u001b[0m\u001b[0m\n",
            "\u001b[0;31mKeyboardInterrupt\u001b[0m: "
          ]
        }
      ]
    },
    {
      "cell_type": "code",
      "source": [],
      "metadata": {
        "id": "dHVy5sUowdJZ"
      },
      "execution_count": null,
      "outputs": []
    },
    {
      "cell_type": "code",
      "source": [
        "device = \"cuda\" if torch.cuda.is_available() else \"cpu\""
      ],
      "metadata": {
        "id": "wyQNo-hqIIEH"
      },
      "execution_count": null,
      "outputs": []
    },
    {
      "cell_type": "code",
      "source": [
        "emails_embeddings[0]"
      ],
      "metadata": {
        "colab": {
          "base_uri": "https://localhost:8080/"
        },
        "id": "51MiGfDkIZDM",
        "outputId": "e1f43a7e-8c2c-46cc-fb92-d61c0fbcc87d"
      },
      "execution_count": null,
      "outputs": [
        {
          "output_type": "execute_result",
          "data": {
            "text/plain": [
              "array([-4.37622214e-01,  2.91747647e-01,  4.46433682e-01, -4.99543788e-01,\n",
              "       -1.55564459e-01,  5.86799765e-02,  1.51524022e-01,  6.33064256e-02,\n",
              "       -2.04417315e-01,  1.78659207e-01,  3.04671649e-01, -1.05319386e-01,\n",
              "        1.21534547e-01,  1.48667727e-01,  2.95478057e-01, -6.14197867e-02,\n",
              "        2.78467246e-01, -3.19167350e-01, -3.50274674e-01,  1.02720839e-01,\n",
              "        3.29825392e-01,  2.67235508e-01,  1.35532020e-01,  4.88986030e-01,\n",
              "        3.69819844e-01,  8.62888053e-02, -8.14431650e-02, -5.01819413e-01,\n",
              "       -1.05849846e-01, -1.97657797e-01, -1.17333600e-01,  3.18218639e-01,\n",
              "        7.71797097e-02,  1.21786967e-01, -7.53295493e-02,  3.55375170e-02,\n",
              "        5.41540271e-02,  4.01104181e-01, -1.44676295e-01, -6.71737383e-02,\n",
              "       -2.18747586e-01, -5.05502406e-01, -2.97167646e-03, -4.22863999e-01,\n",
              "        3.31642116e-03, -8.27475752e-02, -2.41133589e-01, -5.72058499e-01,\n",
              "        2.18677925e-01, -6.74991009e-01, -2.76503819e-01, -1.02604158e-01,\n",
              "       -1.03371694e-03,  8.80221728e-01, -5.07553200e-01, -2.11793263e+00,\n",
              "        1.33619580e-01,  2.80513532e-01,  1.56657101e+00,  3.23621667e-01,\n",
              "       -5.43159460e-02,  4.53058211e-01, -1.42964855e-01, -1.01533485e-01,\n",
              "        4.52465011e-01,  1.38532799e-01,  6.42140523e-01,  4.92330105e-01,\n",
              "       -1.06035340e-01, -8.84444897e-03,  1.21807130e-01, -1.95119042e-01,\n",
              "       -3.67987198e-01, -6.28593519e-01, -2.84834603e-02, -1.40871496e-01,\n",
              "        2.24763613e-02, -1.57289068e-01, -9.48109343e-01, -3.32549420e-01,\n",
              "        6.15616773e-01, -2.25693989e-01, -8.79166591e-02,  1.34347621e-02,\n",
              "       -1.23637051e+00, -3.48560098e-03, -4.43250373e-03, -9.82094594e-02,\n",
              "       -3.96876909e-02, -2.76937921e-01, -6.56716241e-02,  9.63152081e-02,\n",
              "        5.07243956e-02,  1.29780755e-01, -4.10787589e-01,  9.61688370e-02,\n",
              "        2.39604914e-02, -6.34066986e-01,  4.61695212e-01, -1.32738828e-01])"
            ]
          },
          "metadata": {},
          "execution_count": 32
        }
      ]
    },
    {
      "cell_type": "code",
      "source": [
        "len(emails_embeddings)"
      ],
      "metadata": {
        "colab": {
          "base_uri": "https://localhost:8080/"
        },
        "id": "H4UiSmeDVFWt",
        "outputId": "8922e447-28e9-4bd5-d786-df5c9008a6ba"
      },
      "execution_count": null,
      "outputs": [
        {
          "output_type": "execute_result",
          "data": {
            "text/plain": [
              "28138"
            ]
          },
          "metadata": {},
          "execution_count": 33
        }
      ]
    },
    {
      "cell_type": "code",
      "source": [
        "emails_embeddings[0].shape"
      ],
      "metadata": {
        "colab": {
          "base_uri": "https://localhost:8080/"
        },
        "id": "RItkAZdyVMey",
        "outputId": "ee43d0af-a143-4856-c2b4-b0a00fa6d94b"
      },
      "execution_count": null,
      "outputs": [
        {
          "output_type": "execute_result",
          "data": {
            "text/plain": [
              "(100,)"
            ]
          },
          "metadata": {},
          "execution_count": 34
        }
      ]
    },
    {
      "cell_type": "code",
      "source": [
        "import csv"
      ],
      "metadata": {
        "id": "EtNG8IVhoux6"
      },
      "execution_count": null,
      "outputs": []
    },
    {
      "cell_type": "code",
      "source": [
        "# with open('emails_embeddings.csv', mode='w', newline='') as file:\n",
        "#     writer = csv.writer(file)\n",
        "#     writer.writerows(emails_embeddings)"
      ],
      "metadata": {
        "id": "i0PmDGs92CN3"
      },
      "execution_count": null,
      "outputs": []
    },
    {
      "cell_type": "code",
      "source": [
        "# emails_embeddings_nparray = np.array(emails_embeddings)"
      ],
      "metadata": {
        "id": "SYDYcGLU2CQo"
      },
      "execution_count": null,
      "outputs": []
    },
    {
      "cell_type": "code",
      "source": [
        "# file_name = 'emails_embeddings_np.csv'\n",
        "\n",
        "# # Use the 'savetxt' function from numpy\n",
        "# np.savetxt(file_name, emails_embeddings, delimiter=',')"
      ],
      "metadata": {
        "id": "CnktmKt82CTH"
      },
      "execution_count": null,
      "outputs": []
    },
    {
      "cell_type": "code",
      "source": [
        "from torch.utils.data import DataLoader\n",
        "from torchtext.data.functional import to_map_style_dataset"
      ],
      "metadata": {
        "id": "za4DdOrTilNE"
      },
      "execution_count": null,
      "outputs": []
    },
    {
      "cell_type": "code",
      "source": [
        "count = 0\n",
        "y = []\n",
        "for email in tqdm(emails_raw):\n",
        "    text,label = email\n",
        "    # print(label)\n",
        "    y.append(label)\n",
        "    # print(label.shape)\n",
        "    # count+=1\n",
        "    # if count==5:\n",
        "    #   break\n"
      ],
      "metadata": {
        "colab": {
          "base_uri": "https://localhost:8080/"
        },
        "id": "gY-gwNbij0m4",
        "outputId": "114798e9-df25-40a7-e28b-171ec6565697"
      },
      "execution_count": null,
      "outputs": [
        {
          "output_type": "stream",
          "name": "stderr",
          "text": [
            "100%|██████████| 28138/28138 [00:00<00:00, 697554.97it/s]\n"
          ]
        }
      ]
    },
    {
      "cell_type": "code",
      "source": [
        "y = np.array(y)"
      ],
      "metadata": {
        "id": "Cx0tWlQdn7pD"
      },
      "execution_count": null,
      "outputs": []
    },
    {
      "cell_type": "code",
      "source": [
        "y.shape"
      ],
      "metadata": {
        "colab": {
          "base_uri": "https://localhost:8080/"
        },
        "id": "kov-Xexxokui",
        "outputId": "0e3a1158-d2fb-4452-8537-d8ed755ef4c8"
      },
      "execution_count": null,
      "outputs": [
        {
          "output_type": "execute_result",
          "data": {
            "text/plain": [
              "(28138,)"
            ]
          },
          "metadata": {},
          "execution_count": 42
        }
      ]
    },
    {
      "cell_type": "code",
      "source": [
        "y"
      ],
      "metadata": {
        "colab": {
          "base_uri": "https://localhost:8080/"
        },
        "id": "8ZYN6qPDomrN",
        "outputId": "e5c75e04-2d00-458d-da9a-022750246c5c"
      },
      "execution_count": null,
      "outputs": [
        {
          "output_type": "execute_result",
          "data": {
            "text/plain": [
              "array([0, 1, 0, ..., 1, 0, 1])"
            ]
          },
          "metadata": {},
          "execution_count": 43
        }
      ]
    },
    {
      "cell_type": "code",
      "source": [
        "y[0]"
      ],
      "metadata": {
        "colab": {
          "base_uri": "https://localhost:8080/"
        },
        "id": "4Esuw6a_onZW",
        "outputId": "79219b7f-e578-4816-82c6-bfdf4f1f3e87"
      },
      "execution_count": null,
      "outputs": [
        {
          "output_type": "execute_result",
          "data": {
            "text/plain": [
              "0"
            ]
          },
          "metadata": {},
          "execution_count": 44
        }
      ]
    },
    {
      "cell_type": "code",
      "source": [
        "# divide into training, validation, and testing data sets\n",
        "\n",
        "def separate_data(X,Y,percent_validation=0.1,percent_test=0.1):\n",
        "\n",
        "    N = len(X)\n",
        "    len_validation = int(percent_validation*N)\n",
        "    len_test = int(percent_test*N)\n",
        "    len_train = N - len_validation - len_test\n",
        "\n",
        "    len_t_v = len_train+len_validation\n",
        "\n",
        "    X_train      = X[:len_train]\n",
        "    Y_train      = Y[:len_train]\n",
        "    X_validation = X[len_train:len_t_v]\n",
        "    Y_validation = Y[len_train:len_t_v]\n",
        "    X_test = X[len_t_v:]\n",
        "    Y_test = Y[len_t_v:]\n",
        "\n",
        "    return (X_train,Y_train,X_validation,Y_validation,X_test,Y_test)\n",
        "\n",
        "# tests\n",
        "\n",
        "# X_ = np.array(list(range(100)))\n",
        "# Y_ = np.array(list(range(100)))\n",
        "\n",
        "# separate_data(X_,Y_)\n",
        "# separate_data(X_,Y_,0.2,0.2)"
      ],
      "metadata": {
        "id": "62YjSdRloobv"
      },
      "execution_count": null,
      "outputs": []
    },
    {
      "cell_type": "code",
      "source": [
        "X_ = torch.tensor(emails_embeddings,dtype=torch.float32)\n",
        "Y_ = torch.tensor(y, dtype=torch.long)"
      ],
      "metadata": {
        "id": "Uc_rTfGSqihq"
      },
      "execution_count": null,
      "outputs": []
    },
    {
      "cell_type": "code",
      "source": [
        "X_.shape"
      ],
      "metadata": {
        "colab": {
          "base_uri": "https://localhost:8080/"
        },
        "id": "NXQAm_Xpsqj3",
        "outputId": "956f11e2-20b6-43d0-cc2e-b692acbd76b9"
      },
      "execution_count": null,
      "outputs": [
        {
          "output_type": "execute_result",
          "data": {
            "text/plain": [
              "torch.Size([28138, 100])"
            ]
          },
          "metadata": {},
          "execution_count": 56
        }
      ]
    },
    {
      "cell_type": "code",
      "source": [
        "Y_.shape"
      ],
      "metadata": {
        "colab": {
          "base_uri": "https://localhost:8080/"
        },
        "id": "pCajoJVGsubg",
        "outputId": "ec52e436-b48c-4c9a-e758-0ac17efe9a1e"
      },
      "execution_count": null,
      "outputs": [
        {
          "output_type": "execute_result",
          "data": {
            "text/plain": [
              "torch.Size([28138])"
            ]
          },
          "metadata": {},
          "execution_count": 57
        }
      ]
    },
    {
      "cell_type": "code",
      "source": [
        "print(X_.size(),'\\n')\n",
        "print(Y_.size(),'\\n')\n",
        "# print(X_[:5],'\\n')\n",
        "# print(Y_[:5],'\\n')\n",
        "\n",
        "print('     Point Coordinates    ','\\tGroup Label')\n",
        "print('--------------------------','\\t-----------')\n",
        "# for k in range(10):\n",
        "#     print(f'{X_[k]}\\t    {Y_[k]}')"
      ],
      "metadata": {
        "colab": {
          "base_uri": "https://localhost:8080/"
        },
        "id": "RT1H_y8Kswb7",
        "outputId": "89a667fe-0943-423d-9111-f0f1fb401e8b"
      },
      "execution_count": null,
      "outputs": [
        {
          "output_type": "stream",
          "name": "stdout",
          "text": [
            "torch.Size([28138, 100]) \n",
            "\n",
            "torch.Size([28138]) \n",
            "\n",
            "     Point Coordinates     \tGroup Label\n",
            "-------------------------- \t-----------\n"
          ]
        }
      ]
    },
    {
      "cell_type": "code",
      "source": [
        "X_train_blobs,Y_train_blobs,X_val_blobs,Y_val_blobs,X_test_blobs,Y_test_blobs = \\\n",
        "                                                                       separate_data(X_,Y_,0.1,0.1)\n",
        "\n",
        "N_train,N_val,N_test = len(X_train_blobs),len(X_val_blobs),len(X_test_blobs)\n",
        "\n",
        "\n",
        "print('X_train_blobs.size():',X_train_blobs.size())\n",
        "print('Y_train_blobs.size():',Y_train_blobs.size())\n",
        "print('X_val_blobs.size():  ',X_val_blobs.size())\n",
        "print('Y_val_blobs.size():  ',Y_val_blobs.size())\n",
        "print('X_test_blobs.size(): ',X_test_blobs.size())\n",
        "print('Y_test_blobs.size(): ',Y_test_blobs.size())\n",
        "print(X_test_blobs[0], Y_test_blobs[0])"
      ],
      "metadata": {
        "colab": {
          "base_uri": "https://localhost:8080/"
        },
        "id": "qcLOCKtztDWF",
        "outputId": "bdf003d9-f053-4600-d2a9-9c7489edaf69"
      },
      "execution_count": null,
      "outputs": [
        {
          "output_type": "stream",
          "name": "stdout",
          "text": [
            "X_train_blobs.size(): torch.Size([22512, 100])\n",
            "Y_train_blobs.size(): torch.Size([22512])\n",
            "X_val_blobs.size():   torch.Size([2813, 100])\n",
            "Y_val_blobs.size():   torch.Size([2813])\n",
            "X_test_blobs.size():  torch.Size([2813, 100])\n",
            "Y_test_blobs.size():  torch.Size([2813])\n",
            "tensor([-0.2927,  0.2425,  0.4053, -0.3239, -0.1126,  0.0991,  0.0123,  0.0287,\n",
            "        -0.0483,  0.0437,  0.3799, -0.1402,  0.0832,  0.1118,  0.2205, -0.2183,\n",
            "         0.1848, -0.0485, -0.3297,  0.2099,  0.1884,  0.0321,  0.1937,  0.2619,\n",
            "         0.2216,  0.0816,  0.0558, -0.2924,  0.0272, -0.2180, -0.0038,  0.4076,\n",
            "        -0.0699,  0.0327, -0.0356,  0.2110,  0.0848,  0.2575, -0.0182, -0.0851,\n",
            "        -0.0865, -0.3785, -0.0178, -0.4077, -0.0760, -0.1261, -0.0393, -0.3777,\n",
            "        -0.0033, -0.5843,  0.0348, -0.0375,  0.0372,  0.7302, -0.4406, -1.8577,\n",
            "         0.0094, -0.0559,  1.2972,  0.4387, -0.2408,  0.3734, -0.1913, -0.0196,\n",
            "         0.6219,  0.0048,  0.3600,  0.3556,  0.3466, -0.0067, -0.1451, -0.1450,\n",
            "        -0.1582, -0.3864,  0.1154, -0.0439,  0.0084, -0.0239, -0.8111, -0.3025,\n",
            "         0.5421, -0.1936, -0.2635, -0.0303, -0.9652, -0.0094,  0.0668, -0.2516,\n",
            "         0.0219, -0.2110, -0.0899,  0.0232, -0.0150,  0.1343, -0.3866,  0.0461,\n",
            "         0.0045, -0.3458,  0.3420, -0.1151]) tensor(0)\n"
          ]
        }
      ]
    },
    {
      "cell_type": "code",
      "source": [
        "class SpamModel(torch.nn.Module):\n",
        "\n",
        "        # We first define a number of local variables for layers\n",
        "\n",
        "        def __init__(self):\n",
        "            super(SpamModel,self).__init__()\n",
        "            self.linear1 = torch.nn.Linear(100,15)\n",
        "            self.activation1 = torch.nn.ReLU()\n",
        "            self.linear2 = torch.nn.Linear(15,2)\n",
        "\n",
        "        # foward defines the forward pass of a FFNN,\n",
        "        # sending a vector x through each layer and then returning it\n",
        "\n",
        "        def forward(self,x):\n",
        "\n",
        "            x = self.linear1(x)\n",
        "            x = self.activation1(x)                  # we have to explicitly send x through the sigmoid function\n",
        "            x = self.linear2(x)\n",
        "                                              # we will take care of the softmax later\n",
        "            return x"
      ],
      "metadata": {
        "id": "rc0YfWHTtqGZ"
      },
      "execution_count": null,
      "outputs": []
    },
    {
      "cell_type": "code",
      "source": [
        "spam_model = SpamModel()\n",
        "\n",
        "print(spam_model)"
      ],
      "metadata": {
        "colab": {
          "base_uri": "https://localhost:8080/"
        },
        "id": "czKUvtJSiD2w",
        "outputId": "bcfc37ac-e651-4d78-8939-35358df8b1ec"
      },
      "execution_count": null,
      "outputs": [
        {
          "output_type": "stream",
          "name": "stdout",
          "text": [
            "SpamModel(\n",
            "  (linear1): Linear(in_features=100, out_features=15, bias=True)\n",
            "  (activation1): ReLU()\n",
            "  (linear2): Linear(in_features=15, out_features=2, bias=True)\n",
            ")\n"
          ]
        }
      ]
    },
    {
      "cell_type": "code",
      "source": [
        "# num_epoches = 100\n",
        "\n",
        "# loss_fn = nn.CrossEntropyLoss()\n",
        "\n",
        "# # optimizer = optim.SGD(blobs_model.parameters(),lr=0.1)\n",
        "# # optimizer = optim.Adam(blobs_model.parameters())\n",
        "# optimizer = optim.Adagrad(spam_model.parameters(),lr =.01)\n",
        "# # optimizer = optim.RMSprop(blobs_model.parameters())\n",
        "\n",
        "# num_epochs = num_epoches\n",
        "\n",
        "# for epoch in tqdm(range(num_epochs)):           # for each epoch\n",
        "\n",
        "#     spam_model.train()     # We are in training mode, so keep track of differentials for backtracking\n",
        "\n",
        "#     for k in range(len(X_train_blobs)):         # train the network on all the training data\n",
        "\n",
        "#         optimizer.zero_grad                     # reset the differentials to 0\n",
        "\n",
        "#         Y_hat = spam_model(X_train_blobs[k])      # forward pass for this batch; Y_hat is output of network\n",
        "\n",
        "#         loss = loss_fn(Y_hat,Y_train_blobs[k])     # calculate the loss\n",
        "\n",
        "#         loss.backward()                         # do backpropagation to calculate the differentials\n",
        "\n",
        "#         optimizer.step()                        # adjust parameters based on one step of gradient descent"
      ],
      "metadata": {
        "colab": {
          "base_uri": "https://localhost:8080/"
        },
        "id": "3m_shf93i1n5",
        "outputId": "7ef4a3e4-f296-4471-b0d6-fc346bddfd54"
      },
      "execution_count": null,
      "outputs": [
        {
          "output_type": "stream",
          "name": "stderr",
          "text": [
            "100%|██████████| 100/100 [23:53<00:00, 14.34s/it]\n"
          ]
        }
      ]
    },
    {
      "cell_type": "code",
      "source": [
        "# blobs_model(X_test_blobs[0])"
      ],
      "metadata": {
        "colab": {
          "base_uri": "https://localhost:8080/"
        },
        "id": "PQcKK-wguHBv",
        "outputId": "bdd23afe-bdcd-4560-9e1d-076375a76d96"
      },
      "execution_count": null,
      "outputs": [
        {
          "output_type": "execute_result",
          "data": {
            "text/plain": [
              "tensor([-0.2449, -0.2283], grad_fn=<ViewBackward0>)"
            ]
          },
          "metadata": {},
          "execution_count": 63
        }
      ]
    },
    {
      "cell_type": "code",
      "source": [
        "# sm = nn.Softmax(dim=0)\n",
        "\n",
        "# def getPrediction(x):\n",
        "#     return torch.argmax(x).item()\n",
        "\n",
        "# for k in range(20):\n",
        "#     Y_hat = getPrediction(spam_model(X_train_blobs[k]))\n",
        "#     print(f'{X_test_blobs[k]}\\t{Y_test_blobs[k]}   {Y_hat}   {sm(spam_model(X_test_blobs[k]))}')"
      ],
      "metadata": {
        "colab": {
          "base_uri": "https://localhost:8080/"
        },
        "id": "9Y7KSqwEuiLJ",
        "outputId": "3c8d00f3-ff25-4e5b-e94f-4e3a131e4100"
      },
      "execution_count": null,
      "outputs": [
        {
          "output_type": "stream",
          "name": "stdout",
          "text": [
            "tensor([-0.2927,  0.2425,  0.4053, -0.3239, -0.1126,  0.0991,  0.0123,  0.0287,\n",
            "        -0.0483,  0.0437,  0.3799, -0.1402,  0.0832,  0.1118,  0.2205, -0.2183,\n",
            "         0.1848, -0.0485, -0.3297,  0.2099,  0.1884,  0.0321,  0.1937,  0.2619,\n",
            "         0.2216,  0.0816,  0.0558, -0.2924,  0.0272, -0.2180, -0.0038,  0.4076,\n",
            "        -0.0699,  0.0327, -0.0356,  0.2110,  0.0848,  0.2575, -0.0182, -0.0851,\n",
            "        -0.0865, -0.3785, -0.0178, -0.4077, -0.0760, -0.1261, -0.0393, -0.3777,\n",
            "        -0.0033, -0.5843,  0.0348, -0.0375,  0.0372,  0.7302, -0.4406, -1.8577,\n",
            "         0.0094, -0.0559,  1.2972,  0.4387, -0.2408,  0.3734, -0.1913, -0.0196,\n",
            "         0.6219,  0.0048,  0.3600,  0.3556,  0.3466, -0.0067, -0.1451, -0.1450,\n",
            "        -0.1582, -0.3864,  0.1154, -0.0439,  0.0084, -0.0239, -0.8111, -0.3025,\n",
            "         0.5421, -0.1936, -0.2635, -0.0303, -0.9652, -0.0094,  0.0668, -0.2516,\n",
            "         0.0219, -0.2110, -0.0899,  0.0232, -0.0150,  0.1343, -0.3866,  0.0461,\n",
            "         0.0045, -0.3458,  0.3420, -0.1151])\t0   0   tensor([0.8741, 0.1259], grad_fn=<SoftmaxBackward0>)\n",
            "tensor([-1.3047e-01,  2.0481e-01,  3.5641e-01, -2.1388e-01, -4.6393e-02,\n",
            "         9.9975e-02, -4.5502e-02,  1.1489e-01, -1.6490e-02, -7.7640e-03,\n",
            "         2.4743e-01, -3.9291e-02,  1.3479e-01,  5.5976e-02,  1.7461e-01,\n",
            "        -1.9807e-01,  1.7694e-01,  1.0315e-01, -3.5122e-01,  1.8643e-01,\n",
            "         1.2270e-01, -1.0591e-01,  1.4454e-01,  2.3331e-01,  1.6104e-01,\n",
            "        -2.5166e-02,  7.6484e-02, -2.8263e-01,  1.5986e-02, -2.1452e-01,\n",
            "        -1.4677e-02,  4.1550e-01, -1.4443e-01,  4.6209e-02,  3.6491e-02,\n",
            "         2.5571e-01,  5.0622e-02,  1.5719e-01,  1.9666e-02, -1.0918e-01,\n",
            "        -1.7211e-01, -2.2560e-01, -5.4742e-03, -2.8661e-01, -4.5631e-02,\n",
            "        -4.0476e-02, -3.4668e-03, -2.8247e-01, -5.4806e-02, -5.1350e-01,\n",
            "         7.5047e-02,  8.4152e-02,  9.2686e-03,  7.3280e-01, -2.9956e-01,\n",
            "        -1.7244e+00, -3.0908e-02, -1.4853e-01,  1.2655e+00,  2.8445e-01,\n",
            "        -1.5402e-01,  4.6025e-01, -1.7933e-01,  7.6048e-02,  5.2014e-01,\n",
            "         2.5976e-02,  2.3911e-01,  1.7478e-01,  2.5239e-01, -1.2637e-01,\n",
            "        -4.7380e-02, -1.4795e-01, -6.8020e-03, -2.3925e-01,  1.4245e-01,\n",
            "         1.5731e-03, -7.2940e-02,  5.6998e-02, -6.8331e-01, -1.3890e-01,\n",
            "         4.1057e-01, -5.6814e-02, -3.6894e-01,  1.4045e-01, -9.5796e-01,\n",
            "        -6.4837e-02,  1.0585e-01, -1.7833e-01, -4.2315e-02, -1.4301e-01,\n",
            "        -6.7567e-02, -8.3640e-03, -5.5069e-03,  6.9822e-02, -3.9658e-01,\n",
            "        -3.0321e-02, -8.5653e-02, -2.7335e-01,  4.2589e-01,  8.3183e-02])\t1   1   tensor([0.0227, 0.9773], grad_fn=<SoftmaxBackward0>)\n",
            "tensor([-0.1394,  0.1557,  0.2127, -0.1863, -0.0711,  0.1016,  0.0466,  0.0697,\n",
            "        -0.0626,  0.0635,  0.0639, -0.0383,  0.0327,  0.0102,  0.1771, -0.0654,\n",
            "         0.1580,  0.0162, -0.1036,  0.1192,  0.1161,  0.0140,  0.0976,  0.1601,\n",
            "         0.2481,  0.0943, -0.0563, -0.1786, -0.0973, -0.1489, -0.0185,  0.1467,\n",
            "        -0.0048,  0.0352, -0.0328,  0.1082,  0.0331,  0.1298,  0.0585, -0.1473,\n",
            "        -0.0352, -0.1492, -0.0480, -0.2032, -0.0459, -0.0260,  0.0138, -0.2102,\n",
            "         0.0615, -0.2945, -0.1374, -0.0662,  0.0248,  0.4778, -0.2644, -1.1869,\n",
            "         0.0514, -0.0296,  0.7588,  0.1506, -0.0564,  0.3216, -0.0688,  0.0519,\n",
            "         0.2507, -0.0355,  0.3463,  0.1252,  0.0612, -0.1170, -0.0019, -0.1353,\n",
            "        -0.0948, -0.1586, -0.0135, -0.0416, -0.0212, -0.0782, -0.4376, -0.0752,\n",
            "         0.2882, -0.0339, -0.1353,  0.0912, -0.6061, -0.0259,  0.0409, -0.0179,\n",
            "        -0.0150, -0.1327, -0.0279,  0.0106, -0.0102,  0.0637, -0.2281, -0.0654,\n",
            "        -0.0457, -0.2454,  0.2806,  0.0277])\t1   0   tensor([0.0283, 0.9717], grad_fn=<SoftmaxBackward0>)\n",
            "tensor([-1.5283e-01,  2.5651e-01,  4.2226e-01, -3.3095e-01, -1.0451e-01,\n",
            "         7.2406e-02, -1.7481e-02,  1.9463e-01, -1.3313e-01, -9.0454e-02,\n",
            "         3.8479e-01, -2.0768e-01,  8.9644e-02,  1.4485e-01,  1.3097e-01,\n",
            "        -1.4732e-01,  1.9016e-01,  8.6533e-02, -4.6516e-01,  3.8378e-01,\n",
            "         1.7875e-01,  3.6282e-02,  1.6899e-01,  2.8125e-01,  1.9059e-01,\n",
            "         1.0812e-01,  1.2116e-01, -3.2931e-01,  1.6612e-01, -1.3701e-01,\n",
            "        -1.4590e-01,  4.9951e-01, -2.6884e-02,  5.2437e-02, -4.8672e-02,\n",
            "         2.6107e-01,  6.8760e-02,  2.8029e-01,  2.2093e-02, -1.0819e-01,\n",
            "        -2.0548e-01, -2.7846e-01, -3.1808e-02, -3.5428e-01, -9.6304e-02,\n",
            "        -8.9178e-02, -1.1880e-01, -3.9833e-01, -1.8644e-02, -5.0160e-01,\n",
            "         4.8188e-03, -5.0103e-02,  1.9728e-02,  8.1532e-01, -3.6268e-01,\n",
            "        -1.9958e+00,  3.1314e-04, -2.9233e-02,  1.1182e+00,  3.4517e-01,\n",
            "        -2.7007e-01,  4.8692e-01, -3.4140e-01, -1.8074e-02,  6.1737e-01,\n",
            "         2.5402e-02,  3.1372e-01,  3.1590e-01,  2.0637e-01,  4.8893e-02,\n",
            "        -1.0408e-01, -8.2933e-02, -1.8469e-01, -3.9375e-01,  1.5196e-01,\n",
            "        -8.3129e-02,  2.8981e-02,  9.1272e-02, -7.5566e-01, -2.2959e-01,\n",
            "         3.9275e-01, -2.0713e-01, -3.6364e-01,  1.9530e-02, -9.0925e-01,\n",
            "        -1.7424e-02,  2.8004e-02, -2.2059e-01,  1.4219e-02, -6.4036e-02,\n",
            "        -1.5806e-01,  1.0926e-02,  4.5367e-02,  1.7531e-01, -4.1792e-01,\n",
            "         9.9747e-02, -7.1708e-02, -3.5104e-01,  3.5293e-01, -9.7431e-03])\t0   1   tensor([0.9462, 0.0538], grad_fn=<SoftmaxBackward0>)\n",
            "tensor([-0.4585,  0.3434,  0.5379, -0.3636, -0.2458,  0.1821,  0.1044,  0.0344,\n",
            "        -0.1565,  0.0574,  0.3920, -0.1121,  0.0726,  0.1045,  0.2443, -0.1216,\n",
            "         0.1298, -0.0607, -0.3974,  0.3008,  0.3132,  0.1157,  0.1557,  0.2692,\n",
            "         0.3081,  0.2126, -0.0522, -0.3799,  0.0550, -0.3158, -0.0408,  0.3889,\n",
            "        -0.0236, -0.0151,  0.0026,  0.2272,  0.0876,  0.3709, -0.0878, -0.0976,\n",
            "        -0.0369, -0.4280, -0.0290, -0.5187, -0.1051, -0.1288, -0.0378, -0.4136,\n",
            "         0.0788, -0.5850, -0.0462, -0.0385,  0.0077,  0.7517, -0.5955, -2.0226,\n",
            "         0.0308,  0.1425,  1.2127,  0.3889, -0.2877,  0.5046, -0.3359, -0.1145,\n",
            "         0.7737,  0.0601,  0.3771,  0.4134,  0.1884,  0.0140, -0.1073, -0.0533,\n",
            "        -0.1577, -0.3928,  0.1064, -0.0763,  0.0202, -0.0782, -0.8084, -0.4117,\n",
            "         0.4964, -0.3041, -0.2853, -0.1291, -1.0321,  0.0328,  0.0157, -0.3320,\n",
            "         0.0314, -0.2124, -0.0380,  0.0198, -0.0546,  0.1840, -0.4012,  0.0096,\n",
            "        -0.0631, -0.4358,  0.3915, -0.1604])\t0   0   tensor([0.9073, 0.0927], grad_fn=<SoftmaxBackward0>)\n",
            "tensor([-1.0814e-01,  1.2641e-01,  2.6933e-01, -2.0640e-01,  2.1382e-02,\n",
            "        -9.2375e-02,  4.8234e-02,  2.0029e-01, -1.1264e-01,  7.0487e-02,\n",
            "         3.1136e-01, -1.1966e-01,  1.1295e-01,  1.1215e-01,  2.0923e-01,\n",
            "        -2.5693e-01,  2.1530e-01,  4.2645e-02, -2.5427e-01,  1.7822e-01,\n",
            "         1.2277e-01, -1.7602e-01,  1.0760e-01,  2.1408e-01,  2.0852e-01,\n",
            "        -6.9029e-02,  1.0331e-01, -2.5674e-01, -3.1142e-02, -9.9094e-02,\n",
            "        -1.7232e-01,  3.8305e-01, -1.1825e-01,  2.0298e-02, -1.4905e-02,\n",
            "         2.1287e-01,  1.3625e-01,  1.9528e-01, -1.3348e-01, -1.3270e-01,\n",
            "        -2.1483e-01, -3.2072e-01, -2.3726e-04, -2.3205e-01, -2.8359e-02,\n",
            "        -5.9926e-02, -1.0251e-01, -4.0660e-01, -5.0391e-02, -4.7385e-01,\n",
            "         8.6455e-02,  5.4289e-02,  1.2928e-01,  8.2090e-01, -2.7696e-01,\n",
            "        -1.9389e+00, -6.5672e-02, -1.7705e-01,  1.3539e+00,  4.2457e-01,\n",
            "        -2.5437e-01,  4.0535e-01, -2.3238e-01, -1.6423e-02,  6.4284e-01,\n",
            "         1.4989e-02,  2.2198e-01,  2.2602e-01,  3.1781e-01, -3.3482e-02,\n",
            "        -2.8577e-02, -7.7259e-02, -1.5276e-01, -3.2080e-01,  1.4368e-01,\n",
            "        -2.9075e-02, -8.5877e-02,  8.6498e-02, -7.8552e-01, -2.0734e-01,\n",
            "         4.0887e-01, -8.5318e-02, -3.1922e-01,  6.5874e-02, -1.0062e+00,\n",
            "         6.6397e-02,  7.0865e-02, -3.4074e-01, -2.3527e-02, -1.5306e-01,\n",
            "        -9.7110e-02, -8.9289e-03, -9.0478e-02,  1.8916e-01, -3.6494e-01,\n",
            "         9.3658e-02, -1.1174e-01, -3.4815e-01,  5.0095e-01,  7.8768e-03])\t0   0   tensor([0.9462, 0.0538], grad_fn=<SoftmaxBackward0>)\n",
            "tensor([-1.9306e-01,  3.1313e-01,  3.8804e-01, -3.4902e-01, -2.9071e-02,\n",
            "         1.8502e-01, -6.8030e-02,  1.7162e-01,  1.8160e-02, -6.8745e-02,\n",
            "         3.4098e-01, -1.8106e-02,  1.6494e-01, -3.2200e-02,  1.6244e-01,\n",
            "        -2.5298e-01,  1.9601e-01,  7.7106e-02, -4.1124e-01,  3.5551e-01,\n",
            "         1.4432e-01,  2.5628e-02,  1.2057e-01,  1.5657e-01,  2.3319e-01,\n",
            "         1.2106e-02,  6.3058e-03, -3.9025e-01,  4.4306e-02, -2.1826e-01,\n",
            "        -1.4510e-02,  5.9919e-01, -3.3112e-02,  6.7822e-02,  8.5565e-02,\n",
            "         3.6512e-01, -5.3255e-02,  2.5911e-01,  2.7747e-02, -1.8337e-01,\n",
            "        -2.0422e-01, -2.4168e-01, -9.8063e-03, -4.0323e-01, -1.8767e-01,\n",
            "        -9.4645e-02,  1.1310e-02, -4.2474e-01,  6.2447e-04, -6.5918e-01,\n",
            "         7.0997e-02, -1.3636e-03,  8.2860e-02,  8.8957e-01, -3.6711e-01,\n",
            "        -2.1803e+00,  2.9703e-02, -1.1097e-01,  1.5604e+00,  4.1226e-01,\n",
            "        -1.3909e-01,  6.5319e-01, -3.1011e-01, -6.3619e-03,  6.8778e-01,\n",
            "         1.2464e-02,  4.7799e-01,  3.4993e-01,  2.4053e-01, -1.7161e-01,\n",
            "        -4.3078e-02, -1.6494e-01, -9.3194e-02, -4.0730e-01,  7.2130e-02,\n",
            "         4.5057e-02, -2.6547e-02,  4.4309e-02, -8.2022e-01, -1.3541e-01,\n",
            "         5.5524e-01, -1.5229e-01, -3.9493e-01,  3.4208e-02, -1.2133e+00,\n",
            "        -7.8426e-02,  1.0299e-01, -1.5372e-01, -1.2990e-01, -1.8737e-01,\n",
            "        -1.1371e-01,  4.9105e-02,  5.6855e-02, -6.2059e-02, -4.7888e-01,\n",
            "        -5.9017e-02, -9.6273e-02, -3.1710e-01,  5.7387e-01,  1.7285e-01])\t1   0   tensor([0.2739, 0.7261], grad_fn=<SoftmaxBackward0>)\n",
            "tensor([-0.1470,  0.1609,  0.2604, -0.1367,  0.0233,  0.2163, -0.1111,  0.2398,\n",
            "        -0.1327,  0.0395,  0.0207, -0.0280,  0.2695,  0.1518,  0.1696, -0.2558,\n",
            "         0.2341,  0.1514, -0.4342,  0.1506,  0.1680, -0.1382,  0.1417,  0.0520,\n",
            "         0.1127, -0.1061,  0.0069, -0.3631,  0.0844, -0.0911, -0.0702,  0.3879,\n",
            "        -0.0582,  0.0647,  0.0256,  0.2403,  0.0212,  0.1987, -0.1006, -0.1501,\n",
            "        -0.3451, -0.2068,  0.1259, -0.2953, -0.0722, -0.0474,  0.1583, -0.2907,\n",
            "        -0.1512, -0.6031,  0.0593, -0.0851,  0.1467,  0.9096, -0.3438, -2.1449,\n",
            "        -0.0353, -0.1940,  1.4274,  0.4666, -0.1565,  0.5977, -0.1791, -0.0171,\n",
            "         0.6887,  0.0063,  0.3444,  0.2737,  0.1758, -0.1424, -0.0496, -0.2521,\n",
            "        -0.0727, -0.2748,  0.1731, -0.0307, -0.1558, -0.0428, -0.7863, -0.1086,\n",
            "         0.4395, -0.0202, -0.3913,  0.1397, -1.2280, -0.1177,  0.1776, -0.1653,\n",
            "        -0.0782, -0.3206, -0.1004, -0.1396, -0.1144,  0.1538, -0.3863, -0.0169,\n",
            "        -0.1346, -0.3369,  0.4337,  0.1007])\t1   0   tensor([0.3090, 0.6910], grad_fn=<SoftmaxBackward0>)\n",
            "tensor([ 0.0464, -0.0643,  0.2710, -0.1622,  0.1024,  0.0814,  0.3318,  0.2509,\n",
            "         0.6463,  0.0291,  0.2339, -0.2469, -0.1513, -0.0164,  0.2765, -0.3106,\n",
            "         0.1175, -0.0194, -0.1029,  0.2053,  0.2953, -0.0023, -0.2611,  0.2937,\n",
            "         0.2771, -0.0607,  0.0131, -0.4112,  0.1474, -0.2675, -0.0578, -0.0682,\n",
            "        -0.0273,  0.2203,  0.1739,  0.1327,  0.3909, -0.0936,  0.1832, -0.0446,\n",
            "         0.2024, -0.1054, -0.2607, -0.3868,  0.1893, -0.1221, -0.4866, -0.2266,\n",
            "        -0.3922, -0.1819, -0.3291,  0.3602, -0.1351, -0.0945, -0.2322, -1.2856,\n",
            "         0.0414,  0.2485,  0.6957,  0.3785, -0.5116, -0.0101, -0.2951, -0.5819,\n",
            "         0.2272, -0.1114,  0.2322, -0.1697,  0.2461,  0.4397,  0.1788,  0.4630,\n",
            "        -0.1993, -0.3797,  0.0276, -0.4090,  0.0300, -0.0877, -0.5600, -0.1064,\n",
            "         0.3627, -0.3285, -0.0768, -0.1885, -0.3703,  0.0660, -0.1223, -0.2899,\n",
            "         0.1138, -0.2175, -0.0718,  0.0394,  0.3129,  0.0915, -0.1139,  0.2664,\n",
            "        -0.4863, -0.4025,  0.1059, -0.1679])\t1   1   tensor([6.6564e-06, 9.9999e-01], grad_fn=<SoftmaxBackward0>)\n",
            "tensor([-0.1896,  0.2219,  0.4322, -0.2679, -0.1395,  0.1322, -0.0887,  0.1723,\n",
            "        -0.0580,  0.0191,  0.2332, -0.0569,  0.0977,  0.0982,  0.1617, -0.2669,\n",
            "         0.1209,  0.0584, -0.3035,  0.2818,  0.1991,  0.1053,  0.1527,  0.2221,\n",
            "         0.1959,  0.0828, -0.0934, -0.4206,  0.0485, -0.2079, -0.0253,  0.4893,\n",
            "         0.0156,  0.0505, -0.0162,  0.2343,  0.0879,  0.2605,  0.0272, -0.1710,\n",
            "        -0.1186, -0.3623,  0.0364, -0.3853, -0.1300, -0.0510, -0.0205, -0.3451,\n",
            "         0.0096, -0.6757, -0.0532, -0.0590,  0.1026,  0.8585, -0.3437, -2.0646,\n",
            "         0.1033, -0.0768,  1.4205,  0.4037, -0.0994,  0.5057, -0.2339, -0.0049,\n",
            "         0.6587,  0.0509,  0.4693,  0.3311,  0.2267, -0.1040, -0.0349, -0.1291,\n",
            "        -0.1393, -0.4255,  0.1913,  0.0266, -0.0727, -0.0708, -0.7547, -0.1440,\n",
            "         0.4918, -0.0589, -0.3607, -0.0119, -1.1152, -0.0675,  0.0044, -0.1997,\n",
            "        -0.0936, -0.2061, -0.1709,  0.0028,  0.0476,  0.0898, -0.4830,  0.0153,\n",
            "        -0.0322, -0.4052,  0.4668,  0.0756])\t1   1   tensor([0.2700, 0.7300], grad_fn=<SoftmaxBackward0>)\n",
            "tensor([-2.9878e-01,  2.6313e-01,  3.7545e-01, -3.5776e-01, -6.8959e-02,\n",
            "        -5.8249e-02,  2.2893e-01,  1.3003e-01, -1.6783e-01,  5.7582e-02,\n",
            "         4.3621e-01, -1.6997e-01,  6.2471e-02,  1.5949e-01,  2.3869e-01,\n",
            "        -1.0855e-01,  2.4128e-01, -2.9879e-01, -3.5746e-01,  1.7186e-01,\n",
            "         3.1401e-01,  1.1391e-01,  1.1061e-01,  5.1406e-01,  2.8089e-01,\n",
            "         1.1929e-01,  1.5314e-01, -3.2728e-01, -7.0701e-02, -1.1965e-01,\n",
            "        -9.6046e-02,  3.9051e-01,  1.1844e-02,  9.7967e-02, -7.4877e-02,\n",
            "         9.6213e-02,  1.5802e-01,  3.6573e-01, -5.3773e-02, -6.6705e-02,\n",
            "        -4.7608e-02, -4.6591e-01, -1.2776e-01, -3.2703e-01,  7.4439e-02,\n",
            "        -9.3165e-02, -2.4207e-01, -4.8230e-01,  1.4632e-01, -5.4721e-01,\n",
            "        -1.0928e-01, -1.3674e-02,  3.4136e-02,  6.7016e-01, -3.9194e-01,\n",
            "        -1.7368e+00,  6.7597e-02,  1.3527e-01,  1.1528e+00,  2.7192e-01,\n",
            "        -9.5574e-02,  2.8429e-01, -2.1938e-01, -2.2232e-02,  4.5949e-01,\n",
            "         1.7045e-01,  3.7402e-01,  3.3835e-01,  1.0297e-01,  9.1498e-02,\n",
            "        -4.3884e-02, -4.7567e-02, -2.4768e-01, -3.4167e-01,  4.9559e-02,\n",
            "        -2.0770e-01,  1.0757e-01, -4.9908e-04, -7.7140e-01, -3.3600e-01,\n",
            "         4.3368e-01, -2.7393e-01, -8.6558e-02,  4.8103e-02, -8.6961e-01,\n",
            "         8.9682e-02, -9.4009e-03, -1.9940e-01,  7.8940e-02, -1.1175e-01,\n",
            "        -3.2613e-02,  7.6361e-02,  3.4308e-02,  2.6870e-01, -3.3350e-01,\n",
            "         1.1789e-01, -3.2294e-02, -5.1484e-01,  4.2030e-01, -2.2785e-01])\t0   1   tensor([0.9462, 0.0538], grad_fn=<SoftmaxBackward0>)\n",
            "tensor([-1.8213e-01,  4.2487e-01,  5.3124e-01, -3.5036e-01, -1.3281e-01,\n",
            "         1.4572e-01,  7.6931e-03,  2.6419e-01, -1.7252e-01, -1.2255e-01,\n",
            "         4.6011e-01, -2.3928e-01,  1.2795e-01,  2.5241e-01,  2.7010e-01,\n",
            "        -1.9257e-01,  2.7699e-01, -6.2871e-02, -3.6682e-01,  3.8249e-01,\n",
            "         3.5642e-01,  1.1936e-01,  1.5443e-01,  4.0842e-01,  2.7967e-01,\n",
            "         1.1061e-01,  9.4557e-02, -3.7942e-01,  1.0258e-01, -2.9109e-01,\n",
            "        -1.1133e-01,  4.9570e-01, -8.1045e-02, -1.1421e-02,  6.9033e-02,\n",
            "         1.9121e-01,  1.3430e-01,  4.7691e-01,  1.9935e-02, -5.6014e-02,\n",
            "        -1.1535e-01, -4.1706e-01, -6.6891e-02, -4.0613e-01,  4.8319e-02,\n",
            "        -2.2812e-01, -1.8293e-01, -4.0776e-01, -1.8185e-02, -5.8118e-01,\n",
            "         1.1073e-01, -2.7792e-02,  1.5618e-01,  9.3152e-01, -5.5068e-01,\n",
            "        -2.2233e+00,  3.9992e-02, -2.0150e-02,  1.4499e+00,  3.5451e-01,\n",
            "        -1.0342e-01,  5.4600e-01, -3.2216e-01, -1.1694e-03,  6.3886e-01,\n",
            "        -1.2871e-02,  3.6666e-01,  2.3223e-01,  3.5719e-01,  7.6189e-03,\n",
            "        -4.6619e-02, -9.3666e-02, -2.9801e-01, -3.5323e-01,  1.9719e-01,\n",
            "        -1.5664e-01, -3.1820e-02,  1.3391e-01, -9.7202e-01, -2.1067e-01,\n",
            "         4.5604e-01, -2.1903e-01, -3.4281e-01, -7.3195e-02, -1.1061e+00,\n",
            "         1.9396e-01,  3.3227e-02, -2.3093e-01,  1.4315e-01, -1.6498e-01,\n",
            "        -1.2273e-01,  9.6101e-02,  5.3597e-02,  4.8063e-02, -5.5825e-01,\n",
            "         1.0956e-01, -6.5946e-02, -5.1798e-01,  6.5371e-01, -1.6077e-01])\t1   0   tensor([0.3037, 0.6963], grad_fn=<SoftmaxBackward0>)\n",
            "tensor([ 1.4348e-01,  3.7151e-01,  2.8407e-01, -2.3066e-01,  1.0137e-01,\n",
            "        -9.1317e-02,  1.7846e-03,  3.3394e-01, -2.2676e-01,  7.3665e-02,\n",
            "         4.5998e-01,  4.7160e-02,  1.3888e-01, -1.0535e-01,  1.1738e-01,\n",
            "        -3.9628e-01,  1.1177e-01,  1.6567e-01, -2.0358e-01,  3.5251e-01,\n",
            "         2.5669e-01, -5.0737e-02,  3.0262e-01,  2.5134e-01,  1.6622e-01,\n",
            "        -8.8749e-02,  3.1642e-03, -1.1571e-01, -6.0035e-02, -1.8598e-01,\n",
            "        -1.9133e-02,  3.5096e-01, -1.0211e-01,  1.9125e-02, -1.4550e-01,\n",
            "         2.3413e-01,  1.0446e-01,  2.9579e-01, -1.2520e-01, -2.4214e-02,\n",
            "        -9.2368e-02, -5.5295e-01,  1.5856e-02, -2.0336e-01,  2.5994e-03,\n",
            "        -8.3968e-02, -1.4527e-01, -3.5174e-01, -9.5261e-02, -5.7351e-01,\n",
            "        -1.1617e-01,  6.1395e-02,  1.8609e-01,  8.7608e-01, -4.7629e-01,\n",
            "        -2.0856e+00, -1.1294e-02, -4.2451e-01,  1.6549e+00,  4.4884e-01,\n",
            "        -1.9624e-01,  3.3448e-01, -1.4710e-01,  1.3507e-01,  5.9344e-01,\n",
            "        -3.6734e-02,  1.2790e-01,  3.1211e-01,  3.6110e-01, -9.9587e-02,\n",
            "        -2.6025e-02, -2.8780e-02, -9.9328e-03, -1.2510e-01,  4.8025e-02,\n",
            "        -9.2389e-03,  4.1543e-02,  6.6042e-02, -9.9122e-01,  7.1586e-02,\n",
            "         6.1272e-01,  3.7509e-03, -3.2194e-01,  2.5102e-01, -9.1403e-01,\n",
            "        -2.0053e-01,  7.3229e-02, -2.5857e-01,  5.7298e-02, -2.6755e-01,\n",
            "        -5.1497e-02, -5.0186e-02, -9.9482e-02,  2.7857e-02, -4.9571e-01,\n",
            "         1.7105e-01, -8.3301e-02, -9.0973e-02,  5.9150e-01, -1.2482e-01])\t0   0   tensor([0.4572, 0.5428], grad_fn=<SoftmaxBackward0>)\n",
            "tensor([-1.6178e-01,  2.5742e-01,  3.7514e-01, -2.2013e-01, -8.1355e-02,\n",
            "         5.2673e-02, -1.7529e-01,  1.0346e-01, -9.6882e-02,  1.3572e-02,\n",
            "         1.6200e-01, -1.0594e-02,  4.3857e-02, -5.0050e-03,  1.9442e-01,\n",
            "        -2.7558e-01,  1.5602e-01,  5.4802e-02, -3.4121e-01,  2.6262e-01,\n",
            "         1.8231e-01,  1.8831e-03,  1.7074e-01,  2.0019e-01,  1.8364e-01,\n",
            "        -5.5943e-02, -1.2427e-01, -4.9272e-01,  6.2654e-02, -2.1406e-01,\n",
            "         5.1566e-02,  6.1443e-01, -1.1555e-01,  1.7828e-02,  4.9183e-02,\n",
            "         2.9380e-01, -1.7831e-02,  2.0605e-01, -5.7377e-02, -2.4410e-01,\n",
            "        -1.4580e-01, -2.7475e-01, -5.0586e-02, -3.4575e-01, -1.2026e-01,\n",
            "        -3.2560e-02,  2.6098e-02, -3.7844e-01, -8.5170e-02, -8.0125e-01,\n",
            "         2.7907e-02, -2.3667e-02,  7.3382e-02,  9.5788e-01, -2.7557e-01,\n",
            "        -2.1759e+00,  5.0682e-02, -1.9233e-01,  1.6516e+00,  3.9124e-01,\n",
            "        -1.9429e-01,  5.5821e-01, -2.3461e-01, -3.7809e-02,  7.4522e-01,\n",
            "         5.4029e-02,  3.6322e-01,  2.6957e-01,  3.0806e-01, -1.7529e-01,\n",
            "        -1.0238e-01, -1.8359e-01, -9.9331e-02, -3.2422e-01,  1.9593e-01,\n",
            "         1.9456e-02, -1.2716e-01, -1.1147e-01, -7.4497e-01, -2.2911e-01,\n",
            "         5.9759e-01,  5.9663e-02, -3.8963e-01, -2.6772e-02, -1.2155e+00,\n",
            "        -1.7686e-01,  3.4439e-02, -1.9309e-01, -4.5857e-02, -2.0336e-01,\n",
            "        -6.9412e-02, -4.4969e-02,  4.0757e-02,  2.9148e-03, -5.4587e-01,\n",
            "        -7.1033e-04, -8.5181e-03, -2.5487e-01,  5.3287e-01,  6.4165e-02])\t1   0   tensor([0.0191, 0.9809], grad_fn=<SoftmaxBackward0>)\n",
            "tensor([-1.6158e-01,  1.7845e-01,  3.6188e-01, -3.2104e-01, -1.8429e-03,\n",
            "         1.1356e-01, -7.1128e-02,  1.1122e-01, -9.8370e-02, -2.4676e-02,\n",
            "         2.4838e-01, -1.1813e-01,  1.1451e-01,  1.0549e-01,  1.9092e-01,\n",
            "        -2.5867e-01,  2.1802e-01,  3.2490e-02, -4.0552e-01,  2.1095e-01,\n",
            "         2.1688e-01, -1.3458e-02,  1.8405e-01,  1.8983e-01,  1.8544e-01,\n",
            "         2.1511e-02, -8.6878e-03, -3.8471e-01,  6.0855e-02, -1.4795e-01,\n",
            "        -7.7190e-02,  4.6143e-01, -1.1468e-01,  3.6650e-02, -1.5046e-02,\n",
            "         2.4532e-01,  8.9672e-02,  2.0637e-01, -2.9731e-02, -1.5898e-01,\n",
            "        -2.3062e-01, -3.2910e-01,  7.1447e-02, -3.2742e-01, -1.0028e-01,\n",
            "        -7.9759e-02, -4.1690e-02, -4.2250e-01, -6.1805e-02, -6.9500e-01,\n",
            "         9.0231e-02,  3.5109e-02,  1.0302e-01,  9.3346e-01, -3.4462e-01,\n",
            "        -2.1607e+00,  3.0008e-02, -1.3900e-01,  1.5512e+00,  4.0342e-01,\n",
            "        -1.7718e-01,  5.2165e-01, -2.0934e-01,  1.1171e-02,  6.5263e-01,\n",
            "        -3.7683e-02,  3.7413e-01,  3.6837e-01,  2.7596e-01, -1.1699e-01,\n",
            "        -1.1617e-01, -2.3333e-01, -1.5424e-01, -4.3687e-01,  1.3452e-01,\n",
            "         6.9276e-02, -7.5253e-02,  1.0519e-01, -8.8778e-01, -1.5291e-01,\n",
            "         6.1466e-01, -9.4853e-02, -3.2187e-01,  9.4031e-03, -1.1835e+00,\n",
            "        -9.5827e-02,  8.8537e-02, -1.6775e-01, -3.4113e-02, -2.4316e-01,\n",
            "        -1.3747e-01, -1.1964e-02,  4.0199e-02,  4.7178e-02, -4.7007e-01,\n",
            "         7.2578e-02, -4.1394e-02, -3.4891e-01,  4.4938e-01, -1.1836e-03])\t0   1   tensor([0.8569, 0.1431], grad_fn=<SoftmaxBackward0>)\n",
            "tensor([-1.7007e-01,  1.8852e-01,  3.7253e-01, -2.9705e-01, -1.3145e-01,\n",
            "         6.9045e-02, -6.6607e-02,  1.6758e-01, -9.9045e-02, -4.6110e-03,\n",
            "         3.2161e-01, -1.7594e-01,  1.3766e-01,  8.0359e-02,  1.5199e-01,\n",
            "        -1.6813e-01,  1.3429e-01,  1.1278e-04, -3.9776e-01,  3.2215e-01,\n",
            "         1.2864e-01,  9.7888e-02,  1.7615e-01,  1.6674e-01,  2.2652e-01,\n",
            "         6.8319e-02,  4.2486e-02, -3.9774e-01,  9.8120e-02, -1.8080e-01,\n",
            "        -1.2008e-01,  4.8667e-01, -6.0080e-02,  8.0965e-02,  5.3716e-03,\n",
            "         1.8263e-01,  3.5925e-02,  2.6569e-01,  1.3033e-03, -1.4577e-01,\n",
            "        -2.1795e-01, -3.0788e-01, -2.3195e-02, -2.7174e-01, -1.9507e-01,\n",
            "        -1.1595e-01, -6.1073e-02, -3.5941e-01,  9.3796e-02, -6.6005e-01,\n",
            "         8.3644e-02,  1.9742e-02,  1.4547e-02,  8.7294e-01, -3.2913e-01,\n",
            "        -2.0785e+00,  8.7996e-02,  1.7541e-02,  1.2788e+00,  3.8665e-01,\n",
            "        -1.4418e-01,  6.5313e-01, -1.8618e-01,  1.4550e-02,  7.0040e-01,\n",
            "        -1.2788e-02,  4.3655e-01,  3.5884e-01,  1.4913e-01, -2.5630e-02,\n",
            "        -4.8880e-02, -1.0424e-01, -1.1793e-01, -4.6139e-01,  1.4065e-01,\n",
            "        -4.3916e-02, -6.7882e-02,  3.5675e-02, -6.7629e-01, -2.2661e-01,\n",
            "         4.6616e-01, -1.2802e-01, -2.0797e-01,  7.0229e-02, -1.1169e+00,\n",
            "        -2.2391e-02, -7.5703e-03, -1.5250e-01, -1.1033e-01, -2.1462e-01,\n",
            "        -9.8956e-02, -7.8353e-02,  5.5154e-02,  1.3297e-01, -4.0382e-01,\n",
            "         7.2885e-02, -1.8703e-01, -4.0189e-01,  4.0451e-01,  1.5694e-01])\t0   0   tensor([0.9097, 0.0903], grad_fn=<SoftmaxBackward0>)\n",
            "tensor([-7.9312e-02,  3.1656e-01,  4.0484e-01, -2.4360e-01, -1.5916e-02,\n",
            "        -1.5531e-02, -2.3226e-02,  1.4851e-01, -1.8505e-01,  3.1169e-02,\n",
            "         2.7504e-01, -4.8847e-02,  1.0489e-01,  3.4315e-02,  1.8779e-01,\n",
            "        -2.6614e-01,  1.4056e-01,  4.5879e-02, -2.8626e-01,  2.8454e-01,\n",
            "         2.8925e-01,  2.1779e-02,  2.2957e-01,  2.8958e-01,  2.1970e-01,\n",
            "        -3.2531e-02, -2.2936e-02, -3.9345e-01, -2.4338e-02, -1.8271e-01,\n",
            "        -3.3422e-02,  4.3350e-01, -1.4120e-01, -2.7515e-02, -3.4636e-02,\n",
            "         2.7046e-01,  1.5994e-01,  2.0486e-01, -2.6954e-02, -1.4031e-01,\n",
            "        -1.2674e-01, -3.9726e-01,  2.8275e-02, -3.6456e-01, -9.3107e-02,\n",
            "        -3.5647e-02, -1.4581e-02, -4.1478e-01, -3.5248e-02, -6.2891e-01,\n",
            "        -2.5228e-02, -4.2666e-02,  1.1142e-01,  9.3625e-01, -3.4162e-01,\n",
            "        -2.1787e+00,  2.8640e-03, -1.7759e-01,  1.5027e+00,  3.9613e-01,\n",
            "        -1.7715e-01,  4.6527e-01, -2.4640e-01,  6.0749e-02,  5.8948e-01,\n",
            "        -4.6744e-03,  3.8037e-01,  3.4953e-01,  2.0182e-01, -9.6364e-02,\n",
            "        -3.8763e-02, -1.9902e-01, -2.5379e-01, -3.3473e-01,  9.9371e-02,\n",
            "        -3.8356e-02, -7.3266e-02,  1.4505e-02, -9.0453e-01, -1.3048e-01,\n",
            "         5.9372e-01, -2.0380e-02, -3.4385e-01,  2.5304e-02, -1.0601e+00,\n",
            "        -7.4385e-02,  7.2970e-02, -2.1591e-01, -1.1017e-03, -1.4980e-01,\n",
            "        -9.4096e-02,  2.6442e-02, -5.0968e-02, -3.0123e-02, -5.9628e-01,\n",
            "         6.0261e-02, -9.0168e-02, -2.9269e-01,  5.9236e-01,  3.3944e-02])\t0   0   tensor([0.7482, 0.2518], grad_fn=<SoftmaxBackward0>)\n",
            "tensor([-1.3033e-01,  1.8649e-01,  3.5846e-01, -2.8498e-01, -1.7721e-04,\n",
            "         1.0899e-01, -5.5657e-02,  1.8615e-01, -1.0306e-01,  1.7760e-02,\n",
            "         2.3022e-01, -1.2278e-01,  1.2504e-01,  7.6209e-02,  1.7560e-01,\n",
            "        -2.1592e-01,  2.8262e-01,  7.0589e-02, -3.9543e-01,  2.4244e-01,\n",
            "         1.4127e-01, -7.2941e-02,  1.7239e-01,  1.9289e-01,  2.0052e-01,\n",
            "        -2.2293e-02,  5.6636e-02, -3.1758e-01,  6.5979e-02, -1.5031e-01,\n",
            "        -6.6832e-02,  5.5645e-01, -1.2236e-01,  1.3341e-02,  1.1212e-02,\n",
            "         2.9176e-01,  5.8089e-02,  2.3579e-01, -3.9110e-02, -2.0126e-01,\n",
            "        -2.1915e-01, -2.7258e-01,  8.5252e-03, -3.0716e-01, -1.1071e-01,\n",
            "        -8.9942e-02, -2.5850e-02, -3.9540e-01, -7.7047e-02, -6.6381e-01,\n",
            "         1.3330e-01,  8.5140e-03,  1.0445e-01,  8.8890e-01, -2.8041e-01,\n",
            "        -2.1416e+00, -5.8838e-02, -1.5376e-01,  1.5266e+00,  4.2640e-01,\n",
            "        -1.6207e-01,  5.3490e-01, -1.9599e-01,  7.2126e-03,  6.9891e-01,\n",
            "        -5.8513e-02,  3.4094e-01,  3.4715e-01,  2.9309e-01, -1.2032e-01,\n",
            "        -9.9912e-02, -1.9839e-01, -1.0499e-01, -4.3399e-01,  1.4846e-01,\n",
            "         3.0170e-02, -7.6421e-02,  3.3794e-02, -8.4645e-01, -1.6559e-01,\n",
            "         5.2812e-01, -1.0067e-01, -3.7963e-01,  9.3149e-03, -1.1575e+00,\n",
            "        -8.5778e-02,  1.3085e-01, -2.0969e-01, -1.1625e-02, -2.5075e-01,\n",
            "        -1.1193e-01, -2.0142e-02,  2.9958e-02,  4.5112e-02, -4.2639e-01,\n",
            "        -8.2402e-03, -7.7259e-02, -3.1288e-01,  4.8945e-01,  1.0996e-01])\t1   0   tensor([0.5748, 0.4252], grad_fn=<SoftmaxBackward0>)\n",
            "tensor([-2.4736e-01,  2.3150e-01,  4.5024e-01, -3.9155e-01, -4.9379e-02,\n",
            "         2.3323e-02,  7.9495e-03,  1.8158e-01, -1.7997e-01,  2.8845e-02,\n",
            "         2.9691e-01, -1.9611e-01,  1.5946e-01,  1.5220e-01,  2.3034e-01,\n",
            "        -1.7036e-01,  1.9910e-01, -5.9901e-02, -4.5656e-01,  2.2389e-01,\n",
            "         2.5799e-01,  7.6922e-02,  2.0953e-01,  3.5241e-01,  2.2135e-01,\n",
            "         7.1675e-02, -1.8125e-02, -4.0654e-01, -5.4059e-03, -1.2402e-01,\n",
            "        -1.1727e-01,  3.8359e-01, -4.7374e-02, -7.0474e-03, -1.1290e-01,\n",
            "         1.0615e-01,  1.2866e-01,  3.3171e-01, -3.5190e-02, -1.1424e-01,\n",
            "        -2.0192e-01, -4.4115e-01, -1.1459e-02, -3.4035e-01, -3.5278e-02,\n",
            "        -1.2111e-01, -1.2115e-01, -4.8092e-01, -2.4895e-03, -6.0556e-01,\n",
            "        -3.2507e-02, -7.6781e-02,  7.2072e-02,  8.6216e-01, -4.1012e-01,\n",
            "        -2.1785e+00, -7.8160e-03,  1.4989e-02,  1.4596e+00,  4.0569e-01,\n",
            "        -1.2437e-01,  4.1984e-01, -2.0012e-01, -7.6382e-02,  6.2221e-01,\n",
            "        -4.6922e-03,  4.5718e-01,  4.0853e-01,  1.7519e-01,  4.7044e-02,\n",
            "         3.6385e-02, -1.5087e-01, -2.6185e-01, -4.4742e-01,  1.0901e-01,\n",
            "        -9.0665e-02,  1.8320e-02,  1.9911e-02, -8.8167e-01, -2.1301e-01,\n",
            "         5.2644e-01, -2.0632e-01, -2.6436e-01,  1.5238e-02, -1.0974e+00,\n",
            "        -5.7741e-02,  5.7992e-02, -1.8097e-01, -3.9681e-02, -2.5458e-01,\n",
            "        -3.7332e-02, -1.8340e-02, -1.8240e-05,  1.0081e-01, -4.9561e-01,\n",
            "         1.4404e-01, -1.9122e-02, -4.5642e-01,  4.7934e-01, -6.1283e-02])\t0   0   tensor([0.9462, 0.0538], grad_fn=<SoftmaxBackward0>)\n",
            "tensor([-0.1353,  0.5810,  0.7359, -0.4566, -0.0339,  0.3183,  0.0340,  0.1112,\n",
            "         0.0562, -0.0939,  0.2932, -0.1941,  0.0992,  0.0496,  0.1389, -0.2696,\n",
            "         0.2347,  0.0927, -0.5699,  0.3660,  0.1319,  0.2540,  0.1423,  0.2428,\n",
            "         0.4684,  0.1524, -0.3608, -0.5255,  0.0065, -0.4977,  0.3181,  0.4599,\n",
            "        -0.1477, -0.2182,  0.1658,  0.1360,  0.2165,  0.2458,  0.0128, -0.1851,\n",
            "        -0.1223, -0.2830,  0.0291, -0.4324, -0.3717, -0.2584,  0.1222, -0.3728,\n",
            "        -0.0042, -0.7868,  0.1614, -0.1067,  0.0677,  1.0877, -0.2411, -2.1920,\n",
            "        -0.1051,  0.0759,  1.6353,  0.4133, -0.4039,  0.8861,  0.1399, -0.2330,\n",
            "         0.5861, -0.1832,  0.5075,  0.1851,  0.2100, -0.0509, -0.0470, -0.3169,\n",
            "        -0.3948, -0.3133, -0.0529, -0.1492,  0.1242, -0.1362, -0.7755, -0.0790,\n",
            "         0.6589, -0.1347, -0.3656, -0.0741, -1.2852, -0.1164,  0.2317, -0.0114,\n",
            "        -0.1769, -0.2278, -0.0235, -0.0431,  0.0883,  0.0489, -0.8051,  0.1449,\n",
            "         0.0335, -0.4712,  0.6735,  0.2909])\t1   0   tensor([0.0170, 0.9830], grad_fn=<SoftmaxBackward0>)\n"
          ]
        }
      ]
    },
    {
      "cell_type": "code",
      "source": [
        "# blobs_model = BlobsModel()\n",
        "\n",
        "# # print(blobs_model)\n",
        "\n",
        "# loss_fn = nn.CrossEntropyLoss()\n",
        "\n",
        "# # optimizer = optim.SGD(blobs_model.parameters(),lr=0.0001)\n",
        "# # optimizer = optim.Adam(blobs_model.parameters())\n",
        "# optimizer = optim.Adagrad(blobs_model.parameters(),lr=0.01)\n",
        "# # optimizer = optim.RMSprop(blobs_model.parameters(),lr=0.001)\n",
        "\n",
        "# num_epochs = 100\n",
        "\n",
        "# for epoch in tqdm(range(num_epochs)):           # for each epoch\n",
        "\n",
        "#     blobs_model.train()                     # We are in training mode, so keep track of differentials for backtracking\n",
        "\n",
        "#     for k in range(len(X_train_blobs)):         # train the network on all the training data\n",
        "\n",
        "#         optimizer.zero_grad                     # reset the differentials to 0\n",
        "\n",
        "#         Y_hat = blobs_model(X_train_blobs[k])      # forward pass for this batch; Y_hat is output of network\n",
        "\n",
        "#         loss = loss_fn(Y_hat,Y_train_blobs[k])     # calculate the loss\n",
        "\n",
        "#         loss.backward()                         # do backpropagation to calculate the differentials\n",
        "\n",
        "#         optimizer.step()                        # adjust parameters based on one step of gradient descent\n",
        "\n",
        "\n",
        "# blobs_model.eval()          # stop doing backprob, just run model as feed-forward phase\n",
        "# num_correct_test = 0\n",
        "\n",
        "# for k in range(len(X_test_blobs)):\n",
        "\n",
        "#     Y_hat_test = blobs_model(X_test_blobs[k])\n",
        "#     if getPrediction(Y_hat_test) == Y_test_blobs[k]:\n",
        "#         num_correct_test += 1\n",
        "\n",
        "# test_accuracy = num_correct_test / len(X_test_blobs)\n",
        "\n",
        "# print(\"Accuracy:\", test_accuracy )"
      ],
      "metadata": {
        "id": "mp12I4rzu4Fb"
      },
      "execution_count": null,
      "outputs": []
    },
    {
      "cell_type": "code",
      "source": [
        "# blobs_model.eval()          # stop doing backprob, just run model as feed-forward phase\n",
        "# num_correct_test = 0\n",
        "\n",
        "# for k in range(len(X_test_blobs)):\n",
        "\n",
        "#     Y_hat_test = blobs_model(X_test_blobs[k])\n",
        "#     if getPrediction(Y_hat_test) == Y_test_blobs[k]:\n",
        "#         num_correct_test += 1\n",
        "\n",
        "# test_accuracy = num_correct_test / len(X_test_blobs)\n",
        "\n",
        "# print(\"Accuracy:\", test_accuracy )"
      ],
      "metadata": {
        "colab": {
          "base_uri": "https://localhost:8080/"
        },
        "id": "phVYiCiku4H_",
        "outputId": "17abca53-62a5-4f90-f9df-04c18b33f8e2"
      },
      "execution_count": null,
      "outputs": [
        {
          "output_type": "stream",
          "name": "stdout",
          "text": [
            "Accuracy: 0.5879843583362958\n"
          ]
        }
      ]
    },
    {
      "cell_type": "code",
      "source": [
        "from sklearn.datasets import make_blobs\n",
        "from torch.utils.data import Dataset\n",
        "from torch.utils.data import DataLoader\n",
        "\n",
        "\n",
        "class BlobsDataset(Dataset):\n",
        "\n",
        "    def __init__(self, X,Y):\n",
        "        self.X_blobs = X\n",
        "        self.Y_blobs = Y\n",
        "\n",
        "    def __len__(self):\n",
        "        return len(self.X_blobs)\n",
        "\n",
        "    # return a pair x,y at the index idx in the data set\n",
        "    def __getitem__(self, idx):\n",
        "        return self.X_blobs[idx], self.Y_blobs[idx]"
      ],
      "metadata": {
        "id": "x2PvMJ7cu4Lc"
      },
      "execution_count": null,
      "outputs": []
    },
    {
      "cell_type": "code",
      "source": [
        "batch_size = 64\n",
        "\n",
        "blobs_ds = BlobsDataset(X_,Y_)\n",
        "\n",
        "gen = torch.Generator().manual_seed(0)  # this will ensure the same split every time\n",
        "\n",
        "train_blobs_ds,val_blobs_ds,test_blobs_ds = random_split(blobs_ds, [0.8,0.1,0.1], generator=gen)\n",
        "\n",
        "blobs_training_dataloader =   DataLoader(train_blobs_ds, batch_size=batch_size, shuffle=True)\n",
        "\n",
        "blobs_validation_dataloader = DataLoader(val_blobs_ds,   batch_size=batch_size, shuffle=True)\n",
        "\n",
        "blobs_testing_dataloader =    DataLoader(test_blobs_ds,  batch_size=batch_size, shuffle=True)"
      ],
      "metadata": {
        "id": "bDOT1zdQu4NG"
      },
      "execution_count": null,
      "outputs": []
    },
    {
      "cell_type": "code",
      "source": [
        "for x,y in blobs_training_dataloader:\n",
        "    print(x)\n",
        "    print(y)\n",
        "    break"
      ],
      "metadata": {
        "colab": {
          "base_uri": "https://localhost:8080/"
        },
        "id": "v3TUPGOVu4Ow",
        "outputId": "8d895981-a77e-4361-a0de-53be94e65e84"
      },
      "execution_count": null,
      "outputs": [
        {
          "output_type": "stream",
          "name": "stdout",
          "text": [
            "tensor([[-0.1760,  0.2254,  0.5354,  ..., -0.3825,  0.5371,  0.2332],\n",
            "        [-0.1530,  0.3672,  0.4590,  ..., -0.3677,  0.5838,  0.0286],\n",
            "        [-0.1202,  0.2702,  0.3504,  ..., -0.3594,  0.4407, -0.0018],\n",
            "        ...,\n",
            "        [-0.1263,  0.1172,  0.3661,  ..., -0.4050,  0.4628,  0.2197],\n",
            "        [-0.3458,  0.3118,  0.4597,  ..., -0.4296,  0.4174,  0.0276],\n",
            "        [-0.1099,  0.2412,  0.3736,  ..., -0.2650,  0.5147,  0.1323]])\n",
            "tensor([0, 1, 1, 0, 0, 1, 0, 1, 0, 0, 0, 0, 1, 1, 1, 1, 1, 1, 1, 1, 1, 0, 0, 1,\n",
            "        0, 1, 1, 0, 1, 0, 0, 0, 0, 1, 1, 1, 0, 1, 0, 0, 0, 1, 1, 1, 1, 1, 0, 0,\n",
            "        1, 1, 1, 0, 0, 0, 0, 1, 1, 1, 0, 0, 1, 0, 0, 0])\n"
          ]
        }
      ]
    },
    {
      "cell_type": "code",
      "source": [
        "for x,y in blobs_training_dataloader:\n",
        "    print(x.shape,y.shape)\n",
        "    break"
      ],
      "metadata": {
        "colab": {
          "base_uri": "https://localhost:8080/"
        },
        "id": "hf2S_MhZBYCU",
        "outputId": "01282da2-0d26-4381-eb6f-5b8261a9832d"
      },
      "execution_count": null,
      "outputs": [
        {
          "output_type": "stream",
          "name": "stdout",
          "text": [
            "torch.Size([64, 100]) torch.Size([64])\n"
          ]
        }
      ]
    },
    {
      "cell_type": "code",
      "source": [
        "def show_performance_curves(training_loss,validation_loss,training_accuracy,validation_accuracy,test_accuracy):\n",
        "\n",
        "    plt.figure(figsize=(5, 3))\n",
        "    plt.plot(training_loss,label='Training',color='g')\n",
        "    plt.plot(validation_loss,label='Validation',color='b')\n",
        "    plt.title('Training and Validation Loss')\n",
        "    plt.legend(loc='upper right')\n",
        "#     plt.ylim(-0.1,(max(max(training_loss),max(validation_loss))*1.1) )\n",
        "    plt.grid()\n",
        "    plt.xlabel(\"Epochs\")\n",
        "    plt.ylabel(\"Loss\")\n",
        "    plt.show()\n",
        "\n",
        "    print('Final Training Loss:  ',np.around(training_loss[-1],6))\n",
        "    print('Final Validation Loss:',np.around(validation_loss[-1],6))\n",
        "\n",
        "    plt.figure(figsize=(5, 3))\n",
        "    plt.plot(training_accuracy,label='Training',color='g')\n",
        "    plt.plot(validation_accuracy,label='Validation',color='b')\n",
        "    plt.title('Training and Validation Accuracy')\n",
        "    plt.legend(loc='lower right')\n",
        "#     plt.ylim(-0.1,1.1)\n",
        "    plt.grid()\n",
        "    plt.xlabel(\"Epochs\")\n",
        "    plt.ylabel(\"Accuracy\")\n",
        "    plt.show()\n",
        "\n",
        "    print('Final Training Accuracy:  ',np.around(training_accuracy[-1],6))\n",
        "    print('Final Validation Accuracy:',np.around(validation_accuracy[-1],6))\n",
        "    print()\n",
        "\n",
        "    print(\"Test Accuracy:\", test_accuracy.item())\n",
        "    print()"
      ],
      "metadata": {
        "id": "vK7yMbBXB0oZ"
      },
      "execution_count": null,
      "outputs": []
    },
    {
      "cell_type": "code",
      "source": [
        "blobs_model2 = BlobsModel()\n",
        "\n",
        "# print(blobs_model)\n",
        "\n",
        "loss_fn = nn.CrossEntropyLoss()\n",
        "# optimizer = optim.SGD(blobs_model2.parameters(),lr=0.001)\n",
        "# optimizer = optim.Adam(blobs_model2.parameters())\n",
        "optimizer = optim.Adagrad(blobs_model2.parameters(),lr=0.01)\n",
        "# optimizer = optim.RMSprop(blobs_model2.parameters(),lr=0.001)\n",
        "\n",
        "num_epochs = 500\n",
        "\n",
        "batch_size = 64\n",
        "\n",
        "training_losses = np.zeros(num_epochs)\n",
        "val_losses      = np.zeros(num_epochs)\n",
        "\n",
        "training_accuracy = np.zeros(num_epochs)\n",
        "val_accuracy      = np.zeros(num_epochs)\n",
        "\n",
        "for epoch in tqdm(range(num_epochs)):\n",
        "    # training\n",
        "    blobs_model2.train()\n",
        "    t_loss = 0.0\n",
        "    t_num_correct = 0\n",
        "\n",
        "    for X_train_batch,Y_train_batch in blobs_training_dataloader:\n",
        "\n",
        "        optimizer.zero_grad\n",
        "        Y_train_hat = blobs_model2(X_train_batch)\n",
        "        loss = loss_fn(Y_train_hat,Y_train_batch)\n",
        "        loss.backward()\n",
        "        optimizer.step()\n",
        "        t_loss += loss.item()\n",
        "\n",
        "        # If we just use the scalar class number, it must be a long (we did this when creating the dataset)\n",
        "        t_num_correct += (torch.argmax(Y_train_hat,dim=1) == Y_train_batch).float().sum()\n",
        "\n",
        "    training_losses[epoch]   = t_loss/N_train\n",
        "    training_accuracy[epoch] = t_num_correct/N_train\n",
        "\n",
        "    #  validation\n",
        "    v_loss = 0.0\n",
        "    blobs_model2.eval()\n",
        "    v_num_correct = 0\n",
        "\n",
        "    for X_val_batch,Y_val_batch in blobs_validation_dataloader:\n",
        "\n",
        "        Y_hat_val = blobs_model2(X_val_batch)\n",
        "        loss = loss_fn(Y_hat_val,Y_val_batch)\n",
        "        v_loss += loss.item()\n",
        "\n",
        "        v_num_correct += (torch.argmax(Y_hat_val,dim=1) == Y_val_batch).float().sum()\n",
        "\n",
        "    val_losses[epoch]   = v_loss/N_val\n",
        "    val_accuracy[epoch] = v_num_correct/N_val\n",
        "\n",
        "#  testing\n",
        "num_correct_test = 0\n",
        "blobs_model2.eval()\n",
        "\n",
        "for X_test_batch,Y_test_batch in blobs_testing_dataloader:\n",
        "    Y_hat_test = blobs_model2(X_test_batch)\n",
        "    num_correct_test += (torch.argmax(Y_hat_test,dim=1) == Y_test_batch).float().sum()\n",
        "\n",
        "test_accuracy = num_correct_test / N_test\n",
        "\n",
        "show_performance_curves(training_losses,val_losses,training_accuracy,val_accuracy,test_accuracy)"
      ],
      "metadata": {
        "colab": {
          "base_uri": "https://localhost:8080/",
          "height": 232
        },
        "id": "iZiTQ_r9Bd7u",
        "outputId": "2912e62f-c321-47ac-ef86-41643be3c506"
      },
      "execution_count": null,
      "outputs": [
        {
          "output_type": "stream",
          "name": "stderr",
          "text": [
            "100%|██████████| 500/500 [04:06<00:00,  2.03it/s]\n"
          ]
        },
        {
          "output_type": "error",
          "ename": "NameError",
          "evalue": "ignored",
          "traceback": [
            "\u001b[0;31m---------------------------------------------------------------------------\u001b[0m",
            "\u001b[0;31mNameError\u001b[0m                                 Traceback (most recent call last)",
            "\u001b[0;32m<ipython-input-72-7dfe4991b3c2>\u001b[0m in \u001b[0;36m<cell line: 68>\u001b[0;34m()\u001b[0m\n\u001b[1;32m     66\u001b[0m \u001b[0mtest_accuracy\u001b[0m \u001b[0;34m=\u001b[0m \u001b[0mnum_correct_test\u001b[0m \u001b[0;34m/\u001b[0m \u001b[0mN_test\u001b[0m\u001b[0;34m\u001b[0m\u001b[0;34m\u001b[0m\u001b[0m\n\u001b[1;32m     67\u001b[0m \u001b[0;34m\u001b[0m\u001b[0m\n\u001b[0;32m---> 68\u001b[0;31m \u001b[0mshow_performance_curves\u001b[0m\u001b[0;34m(\u001b[0m\u001b[0mtraining_losses\u001b[0m\u001b[0;34m,\u001b[0m\u001b[0mval_losses\u001b[0m\u001b[0;34m,\u001b[0m\u001b[0mtraining_accuracy\u001b[0m\u001b[0;34m,\u001b[0m\u001b[0mval_accuracy\u001b[0m\u001b[0;34m,\u001b[0m\u001b[0mtest_accuracy\u001b[0m\u001b[0;34m)\u001b[0m\u001b[0;34m\u001b[0m\u001b[0;34m\u001b[0m\u001b[0m\n\u001b[0m",
            "\u001b[0;31mNameError\u001b[0m: name 'show_performance_curves' is not defined"
          ]
        }
      ]
    },
    {
      "cell_type": "code",
      "source": [
        "show_performance_curves(training_losses,val_losses,training_accuracy,val_accuracy,test_accuracy)"
      ],
      "metadata": {
        "id": "fzBItKJ7C578",
        "outputId": "13bdd0da-2a8a-4bf7-a8f2-89c5201508e8",
        "colab": {
          "base_uri": "https://localhost:8080/",
          "height": 774
        }
      },
      "execution_count": null,
      "outputs": [
        {
          "output_type": "display_data",
          "data": {
            "text/plain": [
              "<Figure size 500x300 with 1 Axes>"
            ],
            "image/png": "[encoded data removed]"
          },
          "metadata": {}
        },
        {
          "output_type": "stream",
          "name": "stdout",
          "text": [
            "Final Training Loss:   0.000124\n",
            "Final Validation Loss: 0.003089\n"
          ]
        },
        {
          "output_type": "display_data",
          "data": {
            "text/plain": [
              "<Figure size 500x300 with 1 Axes>"
            ],
            "image/png": "[encoded data removed]"
          },
          "metadata": {}
        },
        {
          "output_type": "stream",
          "name": "stdout",
          "text": [
            "Final Training Accuracy:   0.997868\n",
            "Final Validation Accuracy: 0.974049\n",
            "\n",
            "Test Accuracy: 0.9687166810035706\n",
            "\n"
          ]
        }
      ]
    },
    {
      "cell_type": "code",
      "source": [],
      "metadata": {
        "id": "6gxdVOO8C9bF"
      },
      "execution_count": null,
      "outputs": []
    }
  ]
}